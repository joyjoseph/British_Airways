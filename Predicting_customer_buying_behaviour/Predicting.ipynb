{
 "cells": [
  {
   "cell_type": "markdown",
   "metadata": {},
   "source": [
    "# Predictive Modeling of Customer Bookings\n",
    "\n",
    "### Data Description\n",
    "\n",
    "The Customer Booking dataset contains lots of features listed below:\n",
    "\n",
    "- `num_passengers` = number of passengers travelling\n",
    "- `sales_channel` = sales channel booking was made on\n",
    "- `trip_type` = trip Type (Round Trip, One Way, Circle Trip)\n",
    "- `purchase_lead` = number of days between travel date and booking date\n",
    "- `length_of_stay` = number of days spent at destination\n",
    "- `flight_hour` = hour of flight departure\n",
    "- `flight_day` = day of week of flight departure\n",
    "- `route` = origin -> destination flight route\n",
    "- `booking_origin` = country from where booking was made\n",
    "- `wants_extra_baggage` = if the customer wanted extra baggage in the booking\n",
    "- `wants_preferred_seat` = if the customer wanted a preferred seat in the booking\n",
    "- `wants_in_flight_meals` = if the customer wanted in-flight meals in the booking\n",
    "- `flight_duration` = total duration of flight (in hours)\n",
    "- `booking_complete` = flag indicating if the customer completed the booking"
   ]
  },
  {
   "cell_type": "code",
   "execution_count": 73,
   "metadata": {},
   "outputs": [],
   "source": [
    "# Importing Required Libraries\n",
    "import pandas as pd\n",
    "import numpy as np\n",
    "import os\n",
    "import matplotlib.pyplot as plt\n",
    "%matplotlib inline\n",
    "import seaborn as sns"
   ]
  },
  {
   "cell_type": "code",
   "execution_count": 74,
   "metadata": {},
   "outputs": [
    {
     "data": {
      "text/html": [
       "<div>\n",
       "<style scoped>\n",
       "    .dataframe tbody tr th:only-of-type {\n",
       "        vertical-align: middle;\n",
       "    }\n",
       "\n",
       "    .dataframe tbody tr th {\n",
       "        vertical-align: top;\n",
       "    }\n",
       "\n",
       "    .dataframe thead th {\n",
       "        text-align: right;\n",
       "    }\n",
       "</style>\n",
       "<table border=\"1\" class=\"dataframe\">\n",
       "  <thead>\n",
       "    <tr style=\"text-align: right;\">\n",
       "      <th></th>\n",
       "      <th>num_passengers</th>\n",
       "      <th>sales_channel</th>\n",
       "      <th>trip_type</th>\n",
       "      <th>purchase_lead</th>\n",
       "      <th>length_of_stay</th>\n",
       "      <th>flight_hour</th>\n",
       "      <th>flight_day</th>\n",
       "      <th>route</th>\n",
       "      <th>booking_origin</th>\n",
       "      <th>wants_extra_baggage</th>\n",
       "      <th>wants_preferred_seat</th>\n",
       "      <th>wants_in_flight_meals</th>\n",
       "      <th>flight_duration</th>\n",
       "      <th>booking_complete</th>\n",
       "    </tr>\n",
       "  </thead>\n",
       "  <tbody>\n",
       "    <tr>\n",
       "      <th>0</th>\n",
       "      <td>2</td>\n",
       "      <td>Internet</td>\n",
       "      <td>RoundTrip</td>\n",
       "      <td>262</td>\n",
       "      <td>19</td>\n",
       "      <td>7</td>\n",
       "      <td>Sat</td>\n",
       "      <td>AKLDEL</td>\n",
       "      <td>New Zealand</td>\n",
       "      <td>1</td>\n",
       "      <td>0</td>\n",
       "      <td>0</td>\n",
       "      <td>5.52</td>\n",
       "      <td>0</td>\n",
       "    </tr>\n",
       "    <tr>\n",
       "      <th>1</th>\n",
       "      <td>1</td>\n",
       "      <td>Internet</td>\n",
       "      <td>RoundTrip</td>\n",
       "      <td>112</td>\n",
       "      <td>20</td>\n",
       "      <td>3</td>\n",
       "      <td>Sat</td>\n",
       "      <td>AKLDEL</td>\n",
       "      <td>New Zealand</td>\n",
       "      <td>0</td>\n",
       "      <td>0</td>\n",
       "      <td>0</td>\n",
       "      <td>5.52</td>\n",
       "      <td>0</td>\n",
       "    </tr>\n",
       "    <tr>\n",
       "      <th>2</th>\n",
       "      <td>2</td>\n",
       "      <td>Internet</td>\n",
       "      <td>RoundTrip</td>\n",
       "      <td>243</td>\n",
       "      <td>22</td>\n",
       "      <td>17</td>\n",
       "      <td>Wed</td>\n",
       "      <td>AKLDEL</td>\n",
       "      <td>India</td>\n",
       "      <td>1</td>\n",
       "      <td>1</td>\n",
       "      <td>0</td>\n",
       "      <td>5.52</td>\n",
       "      <td>0</td>\n",
       "    </tr>\n",
       "    <tr>\n",
       "      <th>3</th>\n",
       "      <td>1</td>\n",
       "      <td>Internet</td>\n",
       "      <td>RoundTrip</td>\n",
       "      <td>96</td>\n",
       "      <td>31</td>\n",
       "      <td>4</td>\n",
       "      <td>Sat</td>\n",
       "      <td>AKLDEL</td>\n",
       "      <td>New Zealand</td>\n",
       "      <td>0</td>\n",
       "      <td>0</td>\n",
       "      <td>1</td>\n",
       "      <td>5.52</td>\n",
       "      <td>0</td>\n",
       "    </tr>\n",
       "    <tr>\n",
       "      <th>4</th>\n",
       "      <td>2</td>\n",
       "      <td>Internet</td>\n",
       "      <td>RoundTrip</td>\n",
       "      <td>68</td>\n",
       "      <td>22</td>\n",
       "      <td>15</td>\n",
       "      <td>Wed</td>\n",
       "      <td>AKLDEL</td>\n",
       "      <td>India</td>\n",
       "      <td>1</td>\n",
       "      <td>0</td>\n",
       "      <td>1</td>\n",
       "      <td>5.52</td>\n",
       "      <td>0</td>\n",
       "    </tr>\n",
       "    <tr>\n",
       "      <th>5</th>\n",
       "      <td>1</td>\n",
       "      <td>Internet</td>\n",
       "      <td>RoundTrip</td>\n",
       "      <td>3</td>\n",
       "      <td>48</td>\n",
       "      <td>20</td>\n",
       "      <td>Thu</td>\n",
       "      <td>AKLDEL</td>\n",
       "      <td>New Zealand</td>\n",
       "      <td>1</td>\n",
       "      <td>0</td>\n",
       "      <td>1</td>\n",
       "      <td>5.52</td>\n",
       "      <td>0</td>\n",
       "    </tr>\n",
       "    <tr>\n",
       "      <th>6</th>\n",
       "      <td>3</td>\n",
       "      <td>Internet</td>\n",
       "      <td>RoundTrip</td>\n",
       "      <td>201</td>\n",
       "      <td>33</td>\n",
       "      <td>6</td>\n",
       "      <td>Thu</td>\n",
       "      <td>AKLDEL</td>\n",
       "      <td>New Zealand</td>\n",
       "      <td>1</td>\n",
       "      <td>0</td>\n",
       "      <td>1</td>\n",
       "      <td>5.52</td>\n",
       "      <td>0</td>\n",
       "    </tr>\n",
       "    <tr>\n",
       "      <th>7</th>\n",
       "      <td>2</td>\n",
       "      <td>Internet</td>\n",
       "      <td>RoundTrip</td>\n",
       "      <td>238</td>\n",
       "      <td>19</td>\n",
       "      <td>14</td>\n",
       "      <td>Mon</td>\n",
       "      <td>AKLDEL</td>\n",
       "      <td>India</td>\n",
       "      <td>1</td>\n",
       "      <td>0</td>\n",
       "      <td>1</td>\n",
       "      <td>5.52</td>\n",
       "      <td>0</td>\n",
       "    </tr>\n",
       "    <tr>\n",
       "      <th>8</th>\n",
       "      <td>1</td>\n",
       "      <td>Internet</td>\n",
       "      <td>RoundTrip</td>\n",
       "      <td>80</td>\n",
       "      <td>22</td>\n",
       "      <td>4</td>\n",
       "      <td>Mon</td>\n",
       "      <td>AKLDEL</td>\n",
       "      <td>New Zealand</td>\n",
       "      <td>0</td>\n",
       "      <td>0</td>\n",
       "      <td>1</td>\n",
       "      <td>5.52</td>\n",
       "      <td>0</td>\n",
       "    </tr>\n",
       "    <tr>\n",
       "      <th>9</th>\n",
       "      <td>1</td>\n",
       "      <td>Mobile</td>\n",
       "      <td>RoundTrip</td>\n",
       "      <td>378</td>\n",
       "      <td>30</td>\n",
       "      <td>12</td>\n",
       "      <td>Sun</td>\n",
       "      <td>AKLDEL</td>\n",
       "      <td>India</td>\n",
       "      <td>0</td>\n",
       "      <td>0</td>\n",
       "      <td>0</td>\n",
       "      <td>5.52</td>\n",
       "      <td>0</td>\n",
       "    </tr>\n",
       "  </tbody>\n",
       "</table>\n",
       "</div>"
      ],
      "text/plain": [
       "   num_passengers sales_channel  trip_type  purchase_lead  length_of_stay  \\\n",
       "0               2      Internet  RoundTrip            262              19   \n",
       "1               1      Internet  RoundTrip            112              20   \n",
       "2               2      Internet  RoundTrip            243              22   \n",
       "3               1      Internet  RoundTrip             96              31   \n",
       "4               2      Internet  RoundTrip             68              22   \n",
       "5               1      Internet  RoundTrip              3              48   \n",
       "6               3      Internet  RoundTrip            201              33   \n",
       "7               2      Internet  RoundTrip            238              19   \n",
       "8               1      Internet  RoundTrip             80              22   \n",
       "9               1        Mobile  RoundTrip            378              30   \n",
       "\n",
       "   flight_hour flight_day   route booking_origin  wants_extra_baggage  \\\n",
       "0            7        Sat  AKLDEL    New Zealand                    1   \n",
       "1            3        Sat  AKLDEL    New Zealand                    0   \n",
       "2           17        Wed  AKLDEL          India                    1   \n",
       "3            4        Sat  AKLDEL    New Zealand                    0   \n",
       "4           15        Wed  AKLDEL          India                    1   \n",
       "5           20        Thu  AKLDEL    New Zealand                    1   \n",
       "6            6        Thu  AKLDEL    New Zealand                    1   \n",
       "7           14        Mon  AKLDEL          India                    1   \n",
       "8            4        Mon  AKLDEL    New Zealand                    0   \n",
       "9           12        Sun  AKLDEL          India                    0   \n",
       "\n",
       "   wants_preferred_seat  wants_in_flight_meals  flight_duration  \\\n",
       "0                     0                      0             5.52   \n",
       "1                     0                      0             5.52   \n",
       "2                     1                      0             5.52   \n",
       "3                     0                      1             5.52   \n",
       "4                     0                      1             5.52   \n",
       "5                     0                      1             5.52   \n",
       "6                     0                      1             5.52   \n",
       "7                     0                      1             5.52   \n",
       "8                     0                      1             5.52   \n",
       "9                     0                      0             5.52   \n",
       "\n",
       "   booking_complete  \n",
       "0                 0  \n",
       "1                 0  \n",
       "2                 0  \n",
       "3                 0  \n",
       "4                 0  \n",
       "5                 0  \n",
       "6                 0  \n",
       "7                 0  \n",
       "8                 0  \n",
       "9                 0  "
      ]
     },
     "execution_count": 74,
     "metadata": {},
     "output_type": "execute_result"
    }
   ],
   "source": [
    "# reading the dataset into a dataframe\n",
    "df = pd.read_csv(\"data/customer_booking.csv\", encoding=\"ISO-8859-1\")\n",
    "\n",
    "# viewing the first 10 rows in the dataset\n",
    "df.head(10)"
   ]
  },
  {
   "cell_type": "code",
   "execution_count": 75,
   "metadata": {},
   "outputs": [
    {
     "name": "stdout",
     "output_type": "stream",
     "text": [
      "<class 'pandas.core.frame.DataFrame'>\n",
      "RangeIndex: 50000 entries, 0 to 49999\n",
      "Data columns (total 14 columns):\n",
      " #   Column                 Non-Null Count  Dtype  \n",
      "---  ------                 --------------  -----  \n",
      " 0   num_passengers         50000 non-null  int64  \n",
      " 1   sales_channel          50000 non-null  object \n",
      " 2   trip_type              50000 non-null  object \n",
      " 3   purchase_lead          50000 non-null  int64  \n",
      " 4   length_of_stay         50000 non-null  int64  \n",
      " 5   flight_hour            50000 non-null  int64  \n",
      " 6   flight_day             50000 non-null  object \n",
      " 7   route                  50000 non-null  object \n",
      " 8   booking_origin         50000 non-null  object \n",
      " 9   wants_extra_baggage    50000 non-null  int64  \n",
      " 10  wants_preferred_seat   50000 non-null  int64  \n",
      " 11  wants_in_flight_meals  50000 non-null  int64  \n",
      " 12  flight_duration        50000 non-null  float64\n",
      " 13  booking_complete       50000 non-null  int64  \n",
      "dtypes: float64(1), int64(8), object(5)\n",
      "memory usage: 5.3+ MB\n"
     ]
    }
   ],
   "source": [
    "# overall information about the dataset\n",
    "df.info()"
   ]
  },
  {
   "cell_type": "markdown",
   "metadata": {},
   "source": [
    "## Data Exploration and visualization"
   ]
  },
  {
   "cell_type": "markdown",
   "metadata": {},
   "source": [
    "* _What is the size of the datasets_?"
   ]
  },
  {
   "cell_type": "code",
   "execution_count": 76,
   "metadata": {},
   "outputs": [
    {
     "name": "stdout",
     "output_type": "stream",
     "text": [
      "The Shape of the Dataset is: \n",
      "(50000, 14)\n",
      "\n"
     ]
    }
   ],
   "source": [
    "# Check the size of the dataset\n",
    "print(\"The Shape of the Dataset is: \")\n",
    "print(df.shape)\n",
    "print(\"\")"
   ]
  },
  {
   "cell_type": "markdown",
   "metadata": {},
   "source": [
    "#### Inference\n",
    "\n",
    "We can see that there are 50,000 Customer's Booking in the datasets"
   ]
  },
  {
   "cell_type": "markdown",
   "metadata": {},
   "source": [
    "* _Any missing data?_"
   ]
  },
  {
   "cell_type": "code",
   "execution_count": 77,
   "metadata": {},
   "outputs": [
    {
     "name": "stdout",
     "output_type": "stream",
     "text": [
      "The Distribution of Missing Values: \n",
      "num_passengers           0\n",
      "sales_channel            0\n",
      "trip_type                0\n",
      "purchase_lead            0\n",
      "length_of_stay           0\n",
      "flight_hour              0\n",
      "flight_day               0\n",
      "route                    0\n",
      "booking_origin           0\n",
      "wants_extra_baggage      0\n",
      "wants_preferred_seat     0\n",
      "wants_in_flight_meals    0\n",
      "flight_duration          0\n",
      "booking_complete         0\n",
      "dtype: int64\n",
      "\n"
     ]
    }
   ],
   "source": [
    "# checking for missing values\n",
    "print(\"The Distribution of Missing Values: \")\n",
    "print(df.isnull().sum())\n",
    "print(\"\")"
   ]
  },
  {
   "cell_type": "markdown",
   "metadata": {},
   "source": [
    "#### Inference\n",
    "\n",
    "There are no missing data"
   ]
  },
  {
   "cell_type": "markdown",
   "metadata": {},
   "source": [
    "* _What is the data type of each column?_"
   ]
  },
  {
   "cell_type": "code",
   "execution_count": 78,
   "metadata": {},
   "outputs": [
    {
     "name": "stdout",
     "output_type": "stream",
     "text": [
      "The Datatypes for Each Column are: \n",
      "num_passengers             int64\n",
      "sales_channel             object\n",
      "trip_type                 object\n",
      "purchase_lead              int64\n",
      "length_of_stay             int64\n",
      "flight_hour                int64\n",
      "flight_day                object\n",
      "route                     object\n",
      "booking_origin            object\n",
      "wants_extra_baggage        int64\n",
      "wants_preferred_seat       int64\n",
      "wants_in_flight_meals      int64\n",
      "flight_duration          float64\n",
      "booking_complete           int64\n",
      "dtype: object\n"
     ]
    }
   ],
   "source": [
    "# datatype for each column\n",
    "print(\"The Datatypes for Each Column are: \")\n",
    "print(df.dtypes)"
   ]
  },
  {
   "cell_type": "markdown",
   "metadata": {},
   "source": [
    "#### Inference\n",
    "\n",
    "We can see that the columns have int, object and floats as their datatype."
   ]
  },
  {
   "cell_type": "code",
   "execution_count": 79,
   "metadata": {},
   "outputs": [
    {
     "name": "stdout",
     "output_type": "stream",
     "text": [
      "Names of each Columns in The Datasets are: \n",
      "Index(['num_passengers', 'sales_channel', 'trip_type', 'purchase_lead',\n",
      "       'length_of_stay', 'flight_hour', 'flight_day', 'route',\n",
      "       'booking_origin', 'wants_extra_baggage', 'wants_preferred_seat',\n",
      "       'wants_in_flight_meals', 'flight_duration', 'booking_complete'],\n",
      "      dtype='object')\n"
     ]
    }
   ],
   "source": [
    "# checking for column names\n",
    "print(\"Names of each Columns in The Datasets are: \")\n",
    "print(df.columns)"
   ]
  },
  {
   "cell_type": "code",
   "execution_count": 80,
   "metadata": {},
   "outputs": [
    {
     "data": {
      "text/html": [
       "<div>\n",
       "<style scoped>\n",
       "    .dataframe tbody tr th:only-of-type {\n",
       "        vertical-align: middle;\n",
       "    }\n",
       "\n",
       "    .dataframe tbody tr th {\n",
       "        vertical-align: top;\n",
       "    }\n",
       "\n",
       "    .dataframe thead th {\n",
       "        text-align: right;\n",
       "    }\n",
       "</style>\n",
       "<table border=\"1\" class=\"dataframe\">\n",
       "  <thead>\n",
       "    <tr style=\"text-align: right;\">\n",
       "      <th></th>\n",
       "      <th>num_passengers</th>\n",
       "      <th>purchase_lead</th>\n",
       "      <th>length_of_stay</th>\n",
       "      <th>flight_hour</th>\n",
       "      <th>wants_extra_baggage</th>\n",
       "      <th>wants_preferred_seat</th>\n",
       "      <th>wants_in_flight_meals</th>\n",
       "      <th>flight_duration</th>\n",
       "      <th>booking_complete</th>\n",
       "    </tr>\n",
       "  </thead>\n",
       "  <tbody>\n",
       "    <tr>\n",
       "      <th>count</th>\n",
       "      <td>50000.000000</td>\n",
       "      <td>50000.000000</td>\n",
       "      <td>50000.00000</td>\n",
       "      <td>50000.00000</td>\n",
       "      <td>50000.000000</td>\n",
       "      <td>50000.000000</td>\n",
       "      <td>50000.000000</td>\n",
       "      <td>50000.000000</td>\n",
       "      <td>50000.000000</td>\n",
       "    </tr>\n",
       "    <tr>\n",
       "      <th>mean</th>\n",
       "      <td>1.591240</td>\n",
       "      <td>84.940480</td>\n",
       "      <td>23.04456</td>\n",
       "      <td>9.06634</td>\n",
       "      <td>0.668780</td>\n",
       "      <td>0.296960</td>\n",
       "      <td>0.427140</td>\n",
       "      <td>7.277561</td>\n",
       "      <td>0.149560</td>\n",
       "    </tr>\n",
       "    <tr>\n",
       "      <th>std</th>\n",
       "      <td>1.020165</td>\n",
       "      <td>90.451378</td>\n",
       "      <td>33.88767</td>\n",
       "      <td>5.41266</td>\n",
       "      <td>0.470657</td>\n",
       "      <td>0.456923</td>\n",
       "      <td>0.494668</td>\n",
       "      <td>1.496863</td>\n",
       "      <td>0.356643</td>\n",
       "    </tr>\n",
       "    <tr>\n",
       "      <th>min</th>\n",
       "      <td>1.000000</td>\n",
       "      <td>0.000000</td>\n",
       "      <td>0.00000</td>\n",
       "      <td>0.00000</td>\n",
       "      <td>0.000000</td>\n",
       "      <td>0.000000</td>\n",
       "      <td>0.000000</td>\n",
       "      <td>4.670000</td>\n",
       "      <td>0.000000</td>\n",
       "    </tr>\n",
       "    <tr>\n",
       "      <th>25%</th>\n",
       "      <td>1.000000</td>\n",
       "      <td>21.000000</td>\n",
       "      <td>5.00000</td>\n",
       "      <td>5.00000</td>\n",
       "      <td>0.000000</td>\n",
       "      <td>0.000000</td>\n",
       "      <td>0.000000</td>\n",
       "      <td>5.620000</td>\n",
       "      <td>0.000000</td>\n",
       "    </tr>\n",
       "    <tr>\n",
       "      <th>50%</th>\n",
       "      <td>1.000000</td>\n",
       "      <td>51.000000</td>\n",
       "      <td>17.00000</td>\n",
       "      <td>9.00000</td>\n",
       "      <td>1.000000</td>\n",
       "      <td>0.000000</td>\n",
       "      <td>0.000000</td>\n",
       "      <td>7.570000</td>\n",
       "      <td>0.000000</td>\n",
       "    </tr>\n",
       "    <tr>\n",
       "      <th>75%</th>\n",
       "      <td>2.000000</td>\n",
       "      <td>115.000000</td>\n",
       "      <td>28.00000</td>\n",
       "      <td>13.00000</td>\n",
       "      <td>1.000000</td>\n",
       "      <td>1.000000</td>\n",
       "      <td>1.000000</td>\n",
       "      <td>8.830000</td>\n",
       "      <td>0.000000</td>\n",
       "    </tr>\n",
       "    <tr>\n",
       "      <th>max</th>\n",
       "      <td>9.000000</td>\n",
       "      <td>867.000000</td>\n",
       "      <td>778.00000</td>\n",
       "      <td>23.00000</td>\n",
       "      <td>1.000000</td>\n",
       "      <td>1.000000</td>\n",
       "      <td>1.000000</td>\n",
       "      <td>9.500000</td>\n",
       "      <td>1.000000</td>\n",
       "    </tr>\n",
       "  </tbody>\n",
       "</table>\n",
       "</div>"
      ],
      "text/plain": [
       "       num_passengers  purchase_lead  length_of_stay  flight_hour  \\\n",
       "count    50000.000000   50000.000000     50000.00000  50000.00000   \n",
       "mean         1.591240      84.940480        23.04456      9.06634   \n",
       "std          1.020165      90.451378        33.88767      5.41266   \n",
       "min          1.000000       0.000000         0.00000      0.00000   \n",
       "25%          1.000000      21.000000         5.00000      5.00000   \n",
       "50%          1.000000      51.000000        17.00000      9.00000   \n",
       "75%          2.000000     115.000000        28.00000     13.00000   \n",
       "max          9.000000     867.000000       778.00000     23.00000   \n",
       "\n",
       "       wants_extra_baggage  wants_preferred_seat  wants_in_flight_meals  \\\n",
       "count         50000.000000          50000.000000           50000.000000   \n",
       "mean              0.668780              0.296960               0.427140   \n",
       "std               0.470657              0.456923               0.494668   \n",
       "min               0.000000              0.000000               0.000000   \n",
       "25%               0.000000              0.000000               0.000000   \n",
       "50%               1.000000              0.000000               0.000000   \n",
       "75%               1.000000              1.000000               1.000000   \n",
       "max               1.000000              1.000000               1.000000   \n",
       "\n",
       "       flight_duration  booking_complete  \n",
       "count     50000.000000      50000.000000  \n",
       "mean          7.277561          0.149560  \n",
       "std           1.496863          0.356643  \n",
       "min           4.670000          0.000000  \n",
       "25%           5.620000          0.000000  \n",
       "50%           7.570000          0.000000  \n",
       "75%           8.830000          0.000000  \n",
       "max           9.500000          1.000000  "
      ]
     },
     "execution_count": 80,
     "metadata": {},
     "output_type": "execute_result"
    }
   ],
   "source": [
    "# summary statistics\n",
    "df.describe()"
   ]
  },
  {
   "cell_type": "markdown",
   "metadata": {},
   "source": [
    "- _Are there outliers?_"
   ]
  },
  {
   "cell_type": "code",
   "execution_count": 81,
   "metadata": {},
   "outputs": [
    {
     "data": {
      "image/png": "[encoded data removed]",
      "text/plain": [
       "<Figure size 1440x360 with 1 Axes>"
      ]
     },
     "metadata": {
      "needs_background": "light"
     },
     "output_type": "display_data"
    }
   ],
   "source": [
    "# Visualizing Outliers Using Box Plot\n",
    "plt.figure(figsize=(20,5))\n",
    "sns.boxplot(data = df)\n",
    "plt.show()"
   ]
  },
  {
   "cell_type": "markdown",
   "metadata": {},
   "source": [
    "#### Inference\n",
    "\n",
    "We can clearly see from the boxplot that there are outliners. For purchase lead, we see that values above 200 are acting as outliers."
   ]
  },
  {
   "cell_type": "markdown",
   "metadata": {},
   "source": [
    "### Questions that would be used to investigate to further understand the dataset\n",
    "\n",
    "#### 1. How does the number of passengers vary across different sales channels?\n"
   ]
  },
  {
   "cell_type": "code",
   "execution_count": 82,
   "metadata": {},
   "outputs": [
    {
     "data": {
      "text/plain": [
       "sales_channel\n",
       "Internet    70662\n",
       "Mobile       8900\n",
       "Name: num_passengers, dtype: int64"
      ]
     },
     "execution_count": 82,
     "metadata": {},
     "output_type": "execute_result"
    }
   ],
   "source": [
    "# performing a groupby on sales_channel and num_passengers\n",
    "passenger_count_by_channel = df.groupby(\"sales_channel\")[\"num_passengers\"].sum()\n",
    "\n",
    "passenger_count_by_channel"
   ]
  },
  {
   "cell_type": "markdown",
   "metadata": {},
   "source": [
    "#### Inference\n",
    "\n",
    "Here, we see that sales channel used by most passengers for booking is the Internet followed by Mobile"
   ]
  },
  {
   "cell_type": "markdown",
   "metadata": {},
   "source": [
    "#### 2. What is the distribution of bookings made by customers?"
   ]
  },
  {
   "cell_type": "code",
   "execution_count": 83,
   "metadata": {},
   "outputs": [
    {
     "data": {
      "text/plain": [
       "0    42522\n",
       "1     7478\n",
       "Name: booking_complete, dtype: int64"
      ]
     },
     "execution_count": 83,
     "metadata": {},
     "output_type": "execute_result"
    }
   ],
   "source": [
    "# value counts for booking complete\n",
    "df['booking_complete'].value_counts()"
   ]
  },
  {
   "cell_type": "code",
   "execution_count": 84,
   "metadata": {},
   "outputs": [
    {
     "data": {
      "text/plain": [
       "Text(0.5, 1.0, 'Distribution of Customers with Complete Booking')"
      ]
     },
     "execution_count": 84,
     "metadata": {},
     "output_type": "execute_result"
    },
    {
     "data": {
      "image/png": "[encoded data removed]",
      "text/plain": [
       "<Figure size 720x720 with 1 Axes>"
      ]
     },
     "metadata": {},
     "output_type": "display_data"
    }
   ],
   "source": [
    "plt.figure(figsize=(10,10))\n",
    "plt.pie(x=[7478, 42522], labels=['1','0'], autopct='%1.0f%%', pctdistance=0.5,labeldistance=0.7,colors=['r','b'])\n",
    "plt.title('Distribution of Customers with Complete Booking')"
   ]
  },
  {
   "cell_type": "markdown",
   "metadata": {},
   "source": [
    "#### Inference\n",
    "\n",
    "From the distribution plot, we can clearly see that out of 50,000 British Airways customer bookings, 42,522 is marked as complete while 7,478 is not complete. Also the plot reveals tha the dataset is unbalanced, so there would need for tecnique used to balance the dataset."
   ]
  },
  {
   "cell_type": "markdown",
   "metadata": {},
   "source": [
    "### 3. What is the distribution of trip types in the dataset?"
   ]
  },
  {
   "cell_type": "code",
   "execution_count": 85,
   "metadata": {},
   "outputs": [
    {
     "data": {
      "text/plain": [
       "RoundTrip     49497\n",
       "OneWay          387\n",
       "CircleTrip      116\n",
       "Name: trip_type, dtype: int64"
      ]
     },
     "execution_count": 85,
     "metadata": {},
     "output_type": "execute_result"
    }
   ],
   "source": [
    "# the distribution of trip types\n",
    "trip_type_distribution = df[\"trip_type\"].value_counts()\n",
    "\n",
    "trip_type_distribution"
   ]
  },
  {
   "cell_type": "markdown",
   "metadata": {},
   "source": [
    "#### Inference\n",
    "\n",
    "From the distribution of trip types, we can see that there are 49497 RoundTrip bookings, 387 OneWay bookings and 116 CircleTrip bookings. This means that most passengers prefer RoundTrip bookings than oneWay and CircleTrip."
   ]
  },
  {
   "cell_type": "markdown",
   "metadata": {},
   "source": [
    "### 4. How does the distribution of trip types vary across different sales channels?"
   ]
  },
  {
   "cell_type": "code",
   "execution_count": 86,
   "metadata": {},
   "outputs": [
    {
     "data": {
      "text/html": [
       "<div>\n",
       "<style scoped>\n",
       "    .dataframe tbody tr th:only-of-type {\n",
       "        vertical-align: middle;\n",
       "    }\n",
       "\n",
       "    .dataframe tbody tr th {\n",
       "        vertical-align: top;\n",
       "    }\n",
       "\n",
       "    .dataframe thead th {\n",
       "        text-align: right;\n",
       "    }\n",
       "</style>\n",
       "<table border=\"1\" class=\"dataframe\">\n",
       "  <thead>\n",
       "    <tr style=\"text-align: right;\">\n",
       "      <th>trip_type</th>\n",
       "      <th>CircleTrip</th>\n",
       "      <th>OneWay</th>\n",
       "      <th>RoundTrip</th>\n",
       "    </tr>\n",
       "    <tr>\n",
       "      <th>sales_channel</th>\n",
       "      <th></th>\n",
       "      <th></th>\n",
       "      <th></th>\n",
       "    </tr>\n",
       "  </thead>\n",
       "  <tbody>\n",
       "    <tr>\n",
       "      <th>Internet</th>\n",
       "      <td>112</td>\n",
       "      <td>369</td>\n",
       "      <td>43901</td>\n",
       "    </tr>\n",
       "    <tr>\n",
       "      <th>Mobile</th>\n",
       "      <td>4</td>\n",
       "      <td>18</td>\n",
       "      <td>5596</td>\n",
       "    </tr>\n",
       "  </tbody>\n",
       "</table>\n",
       "</div>"
      ],
      "text/plain": [
       "trip_type      CircleTrip  OneWay  RoundTrip\n",
       "sales_channel                               \n",
       "Internet              112     369      43901\n",
       "Mobile                  4      18       5596"
      ]
     },
     "execution_count": 86,
     "metadata": {},
     "output_type": "execute_result"
    }
   ],
   "source": [
    "# distribution of trip types across different sales channels?\n",
    "trip_type_distribution_by_channel = df.groupby([\"sales_channel\", \"trip_type\"]).size().unstack()\n",
    "\n",
    "trip_type_distribution_by_channel"
   ]
  },
  {
   "cell_type": "markdown",
   "metadata": {},
   "source": [
    "#### Inference\n",
    "\n",
    "From the distribution of trip types across different sales channels, we can see that the sales channel with more bookings is Internet."
   ]
  },
  {
   "cell_type": "markdown",
   "metadata": {},
   "source": [
    "### 5. Which routes have the highest demand for extra baggage,  preferred seats or in flight meals?"
   ]
  },
  {
   "cell_type": "code",
   "execution_count": 87,
   "metadata": {},
   "outputs": [
    {
     "data": {
      "text/plain": [
       "AKLKUL    2072\n",
       "MELSGN     735\n",
       "PENTPE     716\n",
       "DMKKIX     599\n",
       "ICNSYD     587\n",
       "MELPEN     574\n",
       "MELTPE     567\n",
       "ICNSIN     555\n",
       "SGNSYD     546\n",
       "DMKOOL     507\n",
       "Name: route, dtype: int64"
      ]
     },
     "execution_count": 87,
     "metadata": {},
     "output_type": "execute_result"
    }
   ],
   "source": [
    "# Top 10 routes with extra baggage, preferred seats or wants in flight meals?\n",
    "routes_with_high_demand = df[(df[\"wants_extra_baggage\"] == 1) | (df[\"wants_preferred_seat\"] == 1) | (df[\"wants_in_flight_meals\"] == 1)][\"route\"].value_counts()\n",
    "\n",
    "routes_with_high_demand.head(10)"
   ]
  },
  {
   "cell_type": "markdown",
   "metadata": {},
   "source": [
    "#### Inference\n",
    "\n",
    "We see that the Top 10 routes with extra baggage, preferred seats or wants in flight meals are; AKLKUL, MELSGN, PENTPE, DMKKIX, ICNSYD, MELPEN, MELTPE, ICNSIN, SGNSYD and DMKOOL"
   ]
  },
  {
   "cell_type": "markdown",
   "metadata": {},
   "source": [
    "### 6. What is the passengers flight bookings for top 10 Countries?"
   ]
  },
  {
   "cell_type": "code",
   "execution_count": 88,
   "metadata": {},
   "outputs": [
    {
     "data": {
      "image/png": "[encoded data removed]",
      "text/plain": [
       "<Figure size 864x576 with 1 Axes>"
      ]
     },
     "metadata": {
      "needs_background": "light"
     },
     "output_type": "display_data"
    }
   ],
   "source": [
    "# Top 10 Countries in flight bookings\n",
    "plt.figure(figsize=(12,8))\n",
    "plots = sns.countplot(x=\"booking_origin\",  data=df ,order=df.booking_origin.value_counts().iloc[:10].index)\n",
    "plt.xlabel(\"Countries\",fontsize= 18)\n",
    "plt.ylabel(\"Count\", fontsize= 18)\n",
    "\n",
    "for bar in plots.patches:\n",
    "    plots.annotate(format(bar.get_height()),(bar.get_x() + bar.get_width() / 2,bar.get_height()), \n",
    "                   ha='center', va='center',size=15, xytext=(0, 8),textcoords='offset points')   "
   ]
  },
  {
   "cell_type": "markdown",
   "metadata": {},
   "source": [
    "#### Inference\n",
    "\n",
    "We see from the plot above that top 10 Countries where bookings was made is Australia having the highest number, followed by Malaysia and New Zealand having the lowest. "
   ]
  },
  {
   "cell_type": "markdown",
   "metadata": {},
   "source": [
    "### 7. What is the number of flights on each day of the week?"
   ]
  },
  {
   "cell_type": "code",
   "execution_count": 89,
   "metadata": {},
   "outputs": [
    {
     "data": {
      "image/png": "[encoded data removed]",
      "text/plain": [
       "<Figure size 1080x432 with 1 Axes>"
      ]
     },
     "metadata": {
      "needs_background": "light"
     },
     "output_type": "display_data"
    }
   ],
   "source": [
    "# flights on each day of the week\n",
    "plt.figure(figsize=(15,6))\n",
    "sns.countplot(x = \"flight_day\", data=df, order=df[\"flight_day\"].value_counts().index)\n",
    "plt.show()"
   ]
  },
  {
   "cell_type": "markdown",
   "metadata": {},
   "source": [
    "#### Inference\n",
    "\n",
    "We see from the plot above that Monday has the highest followed by wednesday, Tuesday and Thursday. However, saturday has the lowest flight day."
   ]
  },
  {
   "cell_type": "markdown",
   "metadata": {},
   "source": [
    "### 8. What is the distribution of flight hour?"
   ]
  },
  {
   "cell_type": "code",
   "execution_count": 90,
   "metadata": {},
   "outputs": [
    {
     "data": {
      "image/png": "[encoded data removed]",
      "text/plain": [
       "<Figure size 432x288 with 1 Axes>"
      ]
     },
     "metadata": {
      "needs_background": "light"
     },
     "output_type": "display_data"
    }
   ],
   "source": [
    "# histogram of flight hour\n",
    "plt.hist(df['flight_hour'])\n",
    " \n",
    "plt.title(\"Flight Hour Distribution\")\n",
    " \n",
    "# Adding the legends\n",
    "plt.show()"
   ]
  },
  {
   "cell_type": "markdown",
   "metadata": {},
   "source": [
    "#### Inference\n",
    "\n",
    "We see from the plot above that the highest flight hour is between 8-10 hours."
   ]
  },
  {
   "cell_type": "markdown",
   "metadata": {},
   "source": [
    "###  9. Is there a correlation between the features?"
   ]
  },
  {
   "cell_type": "code",
   "execution_count": 91,
   "metadata": {},
   "outputs": [
    {
     "data": {
      "image/png": "[encoded data removed]",
      "text/plain": [
       "<Figure size 1440x576 with 2 Axes>"
      ]
     },
     "metadata": {
      "needs_background": "light"
     },
     "output_type": "display_data"
    }
   ],
   "source": [
    "# Plotting heatmap \n",
    "plt.figure(figsize=(20,8))\n",
    "sns.heatmap(df.corr() , annot=True, cmap=\"Reds\")\n",
    "plt.show()"
   ]
  },
  {
   "cell_type": "code",
   "execution_count": 92,
   "metadata": {},
   "outputs": [
    {
     "data": {
      "text/html": [
       "<div>\n",
       "<style scoped>\n",
       "    .dataframe tbody tr th:only-of-type {\n",
       "        vertical-align: middle;\n",
       "    }\n",
       "\n",
       "    .dataframe tbody tr th {\n",
       "        vertical-align: top;\n",
       "    }\n",
       "\n",
       "    .dataframe thead th {\n",
       "        text-align: right;\n",
       "    }\n",
       "</style>\n",
       "<table border=\"1\" class=\"dataframe\">\n",
       "  <thead>\n",
       "    <tr style=\"text-align: right;\">\n",
       "      <th></th>\n",
       "      <th>num_passengers</th>\n",
       "      <th>sales_channel</th>\n",
       "      <th>trip_type</th>\n",
       "      <th>purchase_lead</th>\n",
       "      <th>length_of_stay</th>\n",
       "      <th>flight_hour</th>\n",
       "      <th>flight_day</th>\n",
       "      <th>route</th>\n",
       "      <th>booking_origin</th>\n",
       "      <th>wants_extra_baggage</th>\n",
       "      <th>wants_preferred_seat</th>\n",
       "      <th>wants_in_flight_meals</th>\n",
       "      <th>flight_duration</th>\n",
       "      <th>booking_complete</th>\n",
       "    </tr>\n",
       "  </thead>\n",
       "  <tbody>\n",
       "    <tr>\n",
       "      <th>0</th>\n",
       "      <td>2</td>\n",
       "      <td>Internet</td>\n",
       "      <td>RoundTrip</td>\n",
       "      <td>262</td>\n",
       "      <td>19</td>\n",
       "      <td>7</td>\n",
       "      <td>Sat</td>\n",
       "      <td>AKLDEL</td>\n",
       "      <td>New Zealand</td>\n",
       "      <td>1</td>\n",
       "      <td>0</td>\n",
       "      <td>0</td>\n",
       "      <td>5.52</td>\n",
       "      <td>0</td>\n",
       "    </tr>\n",
       "    <tr>\n",
       "      <th>1</th>\n",
       "      <td>1</td>\n",
       "      <td>Internet</td>\n",
       "      <td>RoundTrip</td>\n",
       "      <td>112</td>\n",
       "      <td>20</td>\n",
       "      <td>3</td>\n",
       "      <td>Sat</td>\n",
       "      <td>AKLDEL</td>\n",
       "      <td>New Zealand</td>\n",
       "      <td>0</td>\n",
       "      <td>0</td>\n",
       "      <td>0</td>\n",
       "      <td>5.52</td>\n",
       "      <td>0</td>\n",
       "    </tr>\n",
       "    <tr>\n",
       "      <th>2</th>\n",
       "      <td>2</td>\n",
       "      <td>Internet</td>\n",
       "      <td>RoundTrip</td>\n",
       "      <td>243</td>\n",
       "      <td>22</td>\n",
       "      <td>17</td>\n",
       "      <td>Wed</td>\n",
       "      <td>AKLDEL</td>\n",
       "      <td>India</td>\n",
       "      <td>1</td>\n",
       "      <td>1</td>\n",
       "      <td>0</td>\n",
       "      <td>5.52</td>\n",
       "      <td>0</td>\n",
       "    </tr>\n",
       "    <tr>\n",
       "      <th>3</th>\n",
       "      <td>1</td>\n",
       "      <td>Internet</td>\n",
       "      <td>RoundTrip</td>\n",
       "      <td>96</td>\n",
       "      <td>31</td>\n",
       "      <td>4</td>\n",
       "      <td>Sat</td>\n",
       "      <td>AKLDEL</td>\n",
       "      <td>New Zealand</td>\n",
       "      <td>0</td>\n",
       "      <td>0</td>\n",
       "      <td>1</td>\n",
       "      <td>5.52</td>\n",
       "      <td>0</td>\n",
       "    </tr>\n",
       "    <tr>\n",
       "      <th>4</th>\n",
       "      <td>2</td>\n",
       "      <td>Internet</td>\n",
       "      <td>RoundTrip</td>\n",
       "      <td>68</td>\n",
       "      <td>22</td>\n",
       "      <td>15</td>\n",
       "      <td>Wed</td>\n",
       "      <td>AKLDEL</td>\n",
       "      <td>India</td>\n",
       "      <td>1</td>\n",
       "      <td>0</td>\n",
       "      <td>1</td>\n",
       "      <td>5.52</td>\n",
       "      <td>0</td>\n",
       "    </tr>\n",
       "  </tbody>\n",
       "</table>\n",
       "</div>"
      ],
      "text/plain": [
       "   num_passengers sales_channel  trip_type  purchase_lead  length_of_stay  \\\n",
       "0               2      Internet  RoundTrip            262              19   \n",
       "1               1      Internet  RoundTrip            112              20   \n",
       "2               2      Internet  RoundTrip            243              22   \n",
       "3               1      Internet  RoundTrip             96              31   \n",
       "4               2      Internet  RoundTrip             68              22   \n",
       "\n",
       "   flight_hour flight_day   route booking_origin  wants_extra_baggage  \\\n",
       "0            7        Sat  AKLDEL    New Zealand                    1   \n",
       "1            3        Sat  AKLDEL    New Zealand                    0   \n",
       "2           17        Wed  AKLDEL          India                    1   \n",
       "3            4        Sat  AKLDEL    New Zealand                    0   \n",
       "4           15        Wed  AKLDEL          India                    1   \n",
       "\n",
       "   wants_preferred_seat  wants_in_flight_meals  flight_duration  \\\n",
       "0                     0                      0             5.52   \n",
       "1                     0                      0             5.52   \n",
       "2                     1                      0             5.52   \n",
       "3                     0                      1             5.52   \n",
       "4                     0                      1             5.52   \n",
       "\n",
       "   booking_complete  \n",
       "0                 0  \n",
       "1                 0  \n",
       "2                 0  \n",
       "3                 0  \n",
       "4                 0  "
      ]
     },
     "execution_count": 92,
     "metadata": {},
     "output_type": "execute_result"
    }
   ],
   "source": [
    "df.head()"
   ]
  },
  {
   "cell_type": "code",
   "execution_count": 93,
   "metadata": {},
   "outputs": [],
   "source": [
    "# Separating categorical and numerical columns\n",
    "cat_df = df.select_dtypes(include=\"object\")\n",
    "num_df = df.select_dtypes(exclude=\"object\")"
   ]
  },
  {
   "cell_type": "code",
   "execution_count": 94,
   "metadata": {},
   "outputs": [
    {
     "data": {
      "text/html": [
       "<div>\n",
       "<style scoped>\n",
       "    .dataframe tbody tr th:only-of-type {\n",
       "        vertical-align: middle;\n",
       "    }\n",
       "\n",
       "    .dataframe tbody tr th {\n",
       "        vertical-align: top;\n",
       "    }\n",
       "\n",
       "    .dataframe thead th {\n",
       "        text-align: right;\n",
       "    }\n",
       "</style>\n",
       "<table border=\"1\" class=\"dataframe\">\n",
       "  <thead>\n",
       "    <tr style=\"text-align: right;\">\n",
       "      <th></th>\n",
       "      <th>sales_channel</th>\n",
       "      <th>trip_type</th>\n",
       "      <th>flight_day</th>\n",
       "      <th>route</th>\n",
       "      <th>booking_origin</th>\n",
       "    </tr>\n",
       "  </thead>\n",
       "  <tbody>\n",
       "    <tr>\n",
       "      <th>0</th>\n",
       "      <td>Internet</td>\n",
       "      <td>RoundTrip</td>\n",
       "      <td>Sat</td>\n",
       "      <td>AKLDEL</td>\n",
       "      <td>New Zealand</td>\n",
       "    </tr>\n",
       "    <tr>\n",
       "      <th>1</th>\n",
       "      <td>Internet</td>\n",
       "      <td>RoundTrip</td>\n",
       "      <td>Sat</td>\n",
       "      <td>AKLDEL</td>\n",
       "      <td>New Zealand</td>\n",
       "    </tr>\n",
       "    <tr>\n",
       "      <th>2</th>\n",
       "      <td>Internet</td>\n",
       "      <td>RoundTrip</td>\n",
       "      <td>Wed</td>\n",
       "      <td>AKLDEL</td>\n",
       "      <td>India</td>\n",
       "    </tr>\n",
       "    <tr>\n",
       "      <th>3</th>\n",
       "      <td>Internet</td>\n",
       "      <td>RoundTrip</td>\n",
       "      <td>Sat</td>\n",
       "      <td>AKLDEL</td>\n",
       "      <td>New Zealand</td>\n",
       "    </tr>\n",
       "    <tr>\n",
       "      <th>4</th>\n",
       "      <td>Internet</td>\n",
       "      <td>RoundTrip</td>\n",
       "      <td>Wed</td>\n",
       "      <td>AKLDEL</td>\n",
       "      <td>India</td>\n",
       "    </tr>\n",
       "  </tbody>\n",
       "</table>\n",
       "</div>"
      ],
      "text/plain": [
       "  sales_channel  trip_type flight_day   route booking_origin\n",
       "0      Internet  RoundTrip        Sat  AKLDEL    New Zealand\n",
       "1      Internet  RoundTrip        Sat  AKLDEL    New Zealand\n",
       "2      Internet  RoundTrip        Wed  AKLDEL          India\n",
       "3      Internet  RoundTrip        Sat  AKLDEL    New Zealand\n",
       "4      Internet  RoundTrip        Wed  AKLDEL          India"
      ]
     },
     "execution_count": 94,
     "metadata": {},
     "output_type": "execute_result"
    }
   ],
   "source": [
    "# reading the first 5 categorical data\n",
    "cat_df.head()"
   ]
  },
  {
   "cell_type": "code",
   "execution_count": 95,
   "metadata": {},
   "outputs": [
    {
     "data": {
      "text/html": [
       "<div>\n",
       "<style scoped>\n",
       "    .dataframe tbody tr th:only-of-type {\n",
       "        vertical-align: middle;\n",
       "    }\n",
       "\n",
       "    .dataframe tbody tr th {\n",
       "        vertical-align: top;\n",
       "    }\n",
       "\n",
       "    .dataframe thead th {\n",
       "        text-align: right;\n",
       "    }\n",
       "</style>\n",
       "<table border=\"1\" class=\"dataframe\">\n",
       "  <thead>\n",
       "    <tr style=\"text-align: right;\">\n",
       "      <th></th>\n",
       "      <th>num_passengers</th>\n",
       "      <th>purchase_lead</th>\n",
       "      <th>length_of_stay</th>\n",
       "      <th>flight_hour</th>\n",
       "      <th>wants_extra_baggage</th>\n",
       "      <th>wants_preferred_seat</th>\n",
       "      <th>wants_in_flight_meals</th>\n",
       "      <th>flight_duration</th>\n",
       "      <th>booking_complete</th>\n",
       "    </tr>\n",
       "  </thead>\n",
       "  <tbody>\n",
       "    <tr>\n",
       "      <th>0</th>\n",
       "      <td>2</td>\n",
       "      <td>262</td>\n",
       "      <td>19</td>\n",
       "      <td>7</td>\n",
       "      <td>1</td>\n",
       "      <td>0</td>\n",
       "      <td>0</td>\n",
       "      <td>5.52</td>\n",
       "      <td>0</td>\n",
       "    </tr>\n",
       "    <tr>\n",
       "      <th>1</th>\n",
       "      <td>1</td>\n",
       "      <td>112</td>\n",
       "      <td>20</td>\n",
       "      <td>3</td>\n",
       "      <td>0</td>\n",
       "      <td>0</td>\n",
       "      <td>0</td>\n",
       "      <td>5.52</td>\n",
       "      <td>0</td>\n",
       "    </tr>\n",
       "    <tr>\n",
       "      <th>2</th>\n",
       "      <td>2</td>\n",
       "      <td>243</td>\n",
       "      <td>22</td>\n",
       "      <td>17</td>\n",
       "      <td>1</td>\n",
       "      <td>1</td>\n",
       "      <td>0</td>\n",
       "      <td>5.52</td>\n",
       "      <td>0</td>\n",
       "    </tr>\n",
       "    <tr>\n",
       "      <th>3</th>\n",
       "      <td>1</td>\n",
       "      <td>96</td>\n",
       "      <td>31</td>\n",
       "      <td>4</td>\n",
       "      <td>0</td>\n",
       "      <td>0</td>\n",
       "      <td>1</td>\n",
       "      <td>5.52</td>\n",
       "      <td>0</td>\n",
       "    </tr>\n",
       "    <tr>\n",
       "      <th>4</th>\n",
       "      <td>2</td>\n",
       "      <td>68</td>\n",
       "      <td>22</td>\n",
       "      <td>15</td>\n",
       "      <td>1</td>\n",
       "      <td>0</td>\n",
       "      <td>1</td>\n",
       "      <td>5.52</td>\n",
       "      <td>0</td>\n",
       "    </tr>\n",
       "  </tbody>\n",
       "</table>\n",
       "</div>"
      ],
      "text/plain": [
       "   num_passengers  purchase_lead  length_of_stay  flight_hour  \\\n",
       "0               2            262              19            7   \n",
       "1               1            112              20            3   \n",
       "2               2            243              22           17   \n",
       "3               1             96              31            4   \n",
       "4               2             68              22           15   \n",
       "\n",
       "   wants_extra_baggage  wants_preferred_seat  wants_in_flight_meals  \\\n",
       "0                    1                     0                      0   \n",
       "1                    0                     0                      0   \n",
       "2                    1                     1                      0   \n",
       "3                    0                     0                      1   \n",
       "4                    1                     0                      1   \n",
       "\n",
       "   flight_duration  booking_complete  \n",
       "0             5.52                 0  \n",
       "1             5.52                 0  \n",
       "2             5.52                 0  \n",
       "3             5.52                 0  \n",
       "4             5.52                 0  "
      ]
     },
     "execution_count": 95,
     "metadata": {},
     "output_type": "execute_result"
    }
   ],
   "source": [
    "# reading the first 5 numerical data\n",
    "num_df.head()"
   ]
  },
  {
   "cell_type": "markdown",
   "metadata": {},
   "source": [
    "- Replacing Outliers Using Median"
   ]
  },
  {
   "cell_type": "code",
   "execution_count": 96,
   "metadata": {},
   "outputs": [],
   "source": [
    "#function that returns a list of outliers and replace them with the meadian value\n",
    "num_columns = ['num_passengers', 'purchase_lead', 'length_of_stay', 'flight_hour',\n",
    "       'wants_extra_baggage', 'wants_preferred_seat', 'wants_in_flight_meals',\n",
    "       'flight_duration']\n",
    "\n",
    "''' Detection '''\n",
    "# IQR\n",
    "# Calculate the upper and lower limits\n",
    "for df in num_columns:\n",
    "    Q1= num_df[df].quantile(0.25)\n",
    "    Q3 =num_df[df].quantile(0.75)\n",
    "    IQR = Q3 - Q1\n",
    "    \n",
    "    lower_limit = Q1 - 1.5 * IQR\n",
    "    \n",
    "    upper_limit = Q3 + 1.5 * IQR\n",
    "  \n",
    "    # replace outliers with meadian value\n",
    "    median = num_df[df].median()\n",
    "    \n",
    "    # Create arrays of Boolean values indicating the outlier rows\n",
    "    num_df[df] = np.where(num_df[df]< lower_limit, median,num_df[df])\n",
    "    num_df[df] = np.where(num_df[df]> upper_limit, median,num_df[df])"
   ]
  },
  {
   "cell_type": "code",
   "execution_count": 97,
   "metadata": {},
   "outputs": [
    {
     "data": {
      "image/png": "[encoded data removed]",
      "text/plain": [
       "<Figure size 1296x576 with 1 Axes>"
      ]
     },
     "metadata": {
      "needs_background": "light"
     },
     "output_type": "display_data"
    }
   ],
   "source": [
    "# Plotting boxplot replaced outliers\n",
    "plt.figure(figsize=(18,8))\n",
    "sns.boxplot(data = num_df)\n",
    "plt.show()"
   ]
  },
  {
   "cell_type": "markdown",
   "metadata": {},
   "source": [
    "## Model Building"
   ]
  },
  {
   "cell_type": "markdown",
   "metadata": {},
   "source": [
    "* Feature Encoding"
   ]
  },
  {
   "cell_type": "code",
   "execution_count": 98,
   "metadata": {},
   "outputs": [],
   "source": [
    "# One-Hot Encoding - The categorical feature is not ordinal\n",
    "columns = ['sales_channel', 'trip_type', 'flight_day', 'route', 'booking_origin']\n",
    "for value in columns:\n",
    "    cat_df=pd.get_dummies(cat_df, columns=[value],drop_first=True)"
   ]
  },
  {
   "cell_type": "code",
   "execution_count": 99,
   "metadata": {},
   "outputs": [
    {
     "data": {
      "text/html": [
       "<div>\n",
       "<style scoped>\n",
       "    .dataframe tbody tr th:only-of-type {\n",
       "        vertical-align: middle;\n",
       "    }\n",
       "\n",
       "    .dataframe tbody tr th {\n",
       "        vertical-align: top;\n",
       "    }\n",
       "\n",
       "    .dataframe thead th {\n",
       "        text-align: right;\n",
       "    }\n",
       "</style>\n",
       "<table border=\"1\" class=\"dataframe\">\n",
       "  <thead>\n",
       "    <tr style=\"text-align: right;\">\n",
       "      <th></th>\n",
       "      <th>sales_channel_Mobile</th>\n",
       "      <th>trip_type_OneWay</th>\n",
       "      <th>trip_type_RoundTrip</th>\n",
       "      <th>flight_day_Mon</th>\n",
       "      <th>flight_day_Sat</th>\n",
       "      <th>flight_day_Sun</th>\n",
       "      <th>flight_day_Thu</th>\n",
       "      <th>flight_day_Tue</th>\n",
       "      <th>flight_day_Wed</th>\n",
       "      <th>route_AKLHGH</th>\n",
       "      <th>...</th>\n",
       "      <th>booking_origin_Vietnam</th>\n",
       "      <th>num_passengers</th>\n",
       "      <th>purchase_lead</th>\n",
       "      <th>length_of_stay</th>\n",
       "      <th>flight_hour</th>\n",
       "      <th>wants_extra_baggage</th>\n",
       "      <th>wants_preferred_seat</th>\n",
       "      <th>wants_in_flight_meals</th>\n",
       "      <th>flight_duration</th>\n",
       "      <th>booking_complete</th>\n",
       "    </tr>\n",
       "  </thead>\n",
       "  <tbody>\n",
       "    <tr>\n",
       "      <th>0</th>\n",
       "      <td>0</td>\n",
       "      <td>0</td>\n",
       "      <td>1</td>\n",
       "      <td>0</td>\n",
       "      <td>1</td>\n",
       "      <td>0</td>\n",
       "      <td>0</td>\n",
       "      <td>0</td>\n",
       "      <td>0</td>\n",
       "      <td>0</td>\n",
       "      <td>...</td>\n",
       "      <td>0</td>\n",
       "      <td>2.0</td>\n",
       "      <td>51.0</td>\n",
       "      <td>19.0</td>\n",
       "      <td>7.0</td>\n",
       "      <td>1.0</td>\n",
       "      <td>0.0</td>\n",
       "      <td>0.0</td>\n",
       "      <td>5.52</td>\n",
       "      <td>0</td>\n",
       "    </tr>\n",
       "    <tr>\n",
       "      <th>1</th>\n",
       "      <td>0</td>\n",
       "      <td>0</td>\n",
       "      <td>1</td>\n",
       "      <td>0</td>\n",
       "      <td>1</td>\n",
       "      <td>0</td>\n",
       "      <td>0</td>\n",
       "      <td>0</td>\n",
       "      <td>0</td>\n",
       "      <td>0</td>\n",
       "      <td>...</td>\n",
       "      <td>0</td>\n",
       "      <td>1.0</td>\n",
       "      <td>112.0</td>\n",
       "      <td>20.0</td>\n",
       "      <td>3.0</td>\n",
       "      <td>0.0</td>\n",
       "      <td>0.0</td>\n",
       "      <td>0.0</td>\n",
       "      <td>5.52</td>\n",
       "      <td>0</td>\n",
       "    </tr>\n",
       "    <tr>\n",
       "      <th>2</th>\n",
       "      <td>0</td>\n",
       "      <td>0</td>\n",
       "      <td>1</td>\n",
       "      <td>0</td>\n",
       "      <td>0</td>\n",
       "      <td>0</td>\n",
       "      <td>0</td>\n",
       "      <td>0</td>\n",
       "      <td>1</td>\n",
       "      <td>0</td>\n",
       "      <td>...</td>\n",
       "      <td>0</td>\n",
       "      <td>2.0</td>\n",
       "      <td>243.0</td>\n",
       "      <td>22.0</td>\n",
       "      <td>17.0</td>\n",
       "      <td>1.0</td>\n",
       "      <td>1.0</td>\n",
       "      <td>0.0</td>\n",
       "      <td>5.52</td>\n",
       "      <td>0</td>\n",
       "    </tr>\n",
       "    <tr>\n",
       "      <th>3</th>\n",
       "      <td>0</td>\n",
       "      <td>0</td>\n",
       "      <td>1</td>\n",
       "      <td>0</td>\n",
       "      <td>1</td>\n",
       "      <td>0</td>\n",
       "      <td>0</td>\n",
       "      <td>0</td>\n",
       "      <td>0</td>\n",
       "      <td>0</td>\n",
       "      <td>...</td>\n",
       "      <td>0</td>\n",
       "      <td>1.0</td>\n",
       "      <td>96.0</td>\n",
       "      <td>31.0</td>\n",
       "      <td>4.0</td>\n",
       "      <td>0.0</td>\n",
       "      <td>0.0</td>\n",
       "      <td>1.0</td>\n",
       "      <td>5.52</td>\n",
       "      <td>0</td>\n",
       "    </tr>\n",
       "    <tr>\n",
       "      <th>4</th>\n",
       "      <td>0</td>\n",
       "      <td>0</td>\n",
       "      <td>1</td>\n",
       "      <td>0</td>\n",
       "      <td>0</td>\n",
       "      <td>0</td>\n",
       "      <td>0</td>\n",
       "      <td>0</td>\n",
       "      <td>1</td>\n",
       "      <td>0</td>\n",
       "      <td>...</td>\n",
       "      <td>0</td>\n",
       "      <td>2.0</td>\n",
       "      <td>68.0</td>\n",
       "      <td>22.0</td>\n",
       "      <td>15.0</td>\n",
       "      <td>1.0</td>\n",
       "      <td>0.0</td>\n",
       "      <td>1.0</td>\n",
       "      <td>5.52</td>\n",
       "      <td>0</td>\n",
       "    </tr>\n",
       "  </tbody>\n",
       "</table>\n",
       "<p>5 rows × 919 columns</p>\n",
       "</div>"
      ],
      "text/plain": [
       "   sales_channel_Mobile  trip_type_OneWay  trip_type_RoundTrip  \\\n",
       "0                     0                 0                    1   \n",
       "1                     0                 0                    1   \n",
       "2                     0                 0                    1   \n",
       "3                     0                 0                    1   \n",
       "4                     0                 0                    1   \n",
       "\n",
       "   flight_day_Mon  flight_day_Sat  flight_day_Sun  flight_day_Thu  \\\n",
       "0               0               1               0               0   \n",
       "1               0               1               0               0   \n",
       "2               0               0               0               0   \n",
       "3               0               1               0               0   \n",
       "4               0               0               0               0   \n",
       "\n",
       "   flight_day_Tue  flight_day_Wed  route_AKLHGH  ...  booking_origin_Vietnam  \\\n",
       "0               0               0             0  ...                       0   \n",
       "1               0               0             0  ...                       0   \n",
       "2               0               1             0  ...                       0   \n",
       "3               0               0             0  ...                       0   \n",
       "4               0               1             0  ...                       0   \n",
       "\n",
       "   num_passengers  purchase_lead  length_of_stay  flight_hour  \\\n",
       "0             2.0           51.0            19.0          7.0   \n",
       "1             1.0          112.0            20.0          3.0   \n",
       "2             2.0          243.0            22.0         17.0   \n",
       "3             1.0           96.0            31.0          4.0   \n",
       "4             2.0           68.0            22.0         15.0   \n",
       "\n",
       "   wants_extra_baggage  wants_preferred_seat  wants_in_flight_meals  \\\n",
       "0                  1.0                   0.0                    0.0   \n",
       "1                  0.0                   0.0                    0.0   \n",
       "2                  1.0                   1.0                    0.0   \n",
       "3                  0.0                   0.0                    1.0   \n",
       "4                  1.0                   0.0                    1.0   \n",
       "\n",
       "   flight_duration  booking_complete  \n",
       "0             5.52                 0  \n",
       "1             5.52                 0  \n",
       "2             5.52                 0  \n",
       "3             5.52                 0  \n",
       "4             5.52                 0  \n",
       "\n",
       "[5 rows x 919 columns]"
      ]
     },
     "execution_count": 99,
     "metadata": {},
     "output_type": "execute_result"
    }
   ],
   "source": [
    "# combining the categorical and numerical data\n",
    "data = pd.concat([cat_df,num_df], axis =1)\n",
    "\n",
    "data.head()"
   ]
  },
  {
   "cell_type": "code",
   "execution_count": 100,
   "metadata": {},
   "outputs": [],
   "source": [
    "# Spliting the data into features and target\n",
    "X = data.drop('booking_complete', axis=1)\n",
    "y = data['booking_complete']\n",
    "\n",
    "from sklearn.model_selection import train_test_split\n",
    "# Split the data into training and testing sets\n",
    "X_train, X_test, y_train, y_test = train_test_split(X, y, test_size=0.2, random_state=42)"
   ]
  },
  {
   "cell_type": "code",
   "execution_count": 101,
   "metadata": {},
   "outputs": [
    {
     "name": "stdout",
     "output_type": "stream",
     "text": [
      "(50000, 918)\n",
      "(50000,)\n"
     ]
    }
   ],
   "source": [
    "print(X.shape)\n",
    "print(y.shape)"
   ]
  },
  {
   "cell_type": "code",
   "execution_count": 102,
   "metadata": {},
   "outputs": [
    {
     "name": "stdout",
     "output_type": "stream",
     "text": [
      "(85044, 918)\n",
      "(85044,)\n"
     ]
    }
   ],
   "source": [
    "# Using StandardScaler \n",
    "from sklearn.preprocessing import StandardScaler\n",
    "sc = StandardScaler()\n",
    "X_scaled = sc.fit_transform(X)\n",
    "\n",
    "# using imblearn to removing imablance in our dataset\n",
    "from imblearn.over_sampling import SMOTE\n",
    "\n",
    "smote = SMOTE()\n",
    "x_smote, y_smote = smote.fit_resample(X_scaled, y)\n",
    "print(x_smote.shape)\n",
    "print(y_smote.shape)"
   ]
  },
  {
   "cell_type": "markdown",
   "metadata": {},
   "source": [
    "### Training  The Model"
   ]
  },
  {
   "cell_type": "code",
   "execution_count": 103,
   "metadata": {},
   "outputs": [
    {
     "data": {
      "text/plain": [
       "RandomForestClassifier()"
      ]
     },
     "execution_count": 103,
     "metadata": {},
     "output_type": "execute_result"
    }
   ],
   "source": [
    "from sklearn.ensemble import RandomForestClassifier\n",
    "from sklearn.metrics import confusion_matrix , classification_report , accuracy_score\n",
    "from sklearn.model_selection import cross_val_score\n",
    "\n",
    "# Initialize the Random Forest classifier\n",
    "rf = RandomForestClassifier()\n",
    "\n",
    "# Train the model\n",
    "rf.fit(X_train, y_train)"
   ]
  },
  {
   "cell_type": "code",
   "execution_count": 104,
   "metadata": {},
   "outputs": [],
   "source": [
    "# Make predictions on the test set\n",
    "y_pred = rf.predict(X_test)"
   ]
  },
  {
   "cell_type": "markdown",
   "metadata": {},
   "source": [
    "* What is the accuracy of the model?"
   ]
  },
  {
   "cell_type": "code",
   "execution_count": 105,
   "metadata": {},
   "outputs": [
    {
     "data": {
      "text/plain": [
       "0.8539"
      ]
     },
     "execution_count": 105,
     "metadata": {},
     "output_type": "execute_result"
    }
   ],
   "source": [
    "# Calculate the accuracy of the model\n",
    "accuracy = accuracy_score(y_test, y_pred)\n",
    "accuracy"
   ]
  },
  {
   "cell_type": "markdown",
   "metadata": {},
   "source": [
    "#### Inference\n",
    "\n",
    "Our RandomForestClassifier model provided an accuracy measure of 85.39%"
   ]
  },
  {
   "cell_type": "markdown",
   "metadata": {},
   "source": [
    "* Cross-Validation Scores"
   ]
  },
  {
   "cell_type": "code",
   "execution_count": 106,
   "metadata": {},
   "outputs": [
    {
     "name": "stdout",
     "output_type": "stream",
     "text": [
      "Cross-Validation Scores: [0.8498 0.7826 0.7093 0.5263 0.7683]\n",
      "Mean Score: 0.72726\n",
      "Standard Deviation: 0.1099730257835984\n"
     ]
    }
   ],
   "source": [
    "# Perform cross-validation to prevent overfitting\n",
    "scores = cross_val_score(rf, X, y, cv=5)\n",
    "\n",
    "# Output evaluation metrics\n",
    "print('Cross-Validation Scores:', scores)\n",
    "print('Mean Score:', scores.mean())\n",
    "print('Standard Deviation:', scores.std())"
   ]
  },
  {
   "cell_type": "code",
   "execution_count": 107,
   "metadata": {},
   "outputs": [
    {
     "name": "stdout",
     "output_type": "stream",
     "text": [
      "Classification Report:\n",
      "              precision    recall  f1-score   support\n",
      "\n",
      "           0       1.00      1.00      1.00     42522\n",
      "           1       1.00      1.00      1.00      7478\n",
      "\n",
      "    accuracy                           1.00     50000\n",
      "   macro avg       1.00      1.00      1.00     50000\n",
      "weighted avg       1.00      1.00      1.00     50000\n",
      "\n"
     ]
    }
   ],
   "source": [
    "# Fit the model on the entire dataset\n",
    "rf.fit(X, y)\n",
    "\n",
    "# Make predictions on the entire dataset\n",
    "y_pred = rf.predict(X)\n",
    "\n",
    "# Output classification report\n",
    "print('Classification Report:')\n",
    "print(classification_report(y, y_pred))"
   ]
  },
  {
   "cell_type": "code",
   "execution_count": 111,
   "metadata": {},
   "outputs": [
    {
     "data": {
      "text/plain": [
       "(0.72726,\n",
       " 0.9991974317817014,\n",
       " 0.9989301952393688,\n",
       " 0.9990637956399624,\n",
       " array([1.11723002e-02, 6.72414920e-04, 8.73138491e-04, 1.74444070e-02,\n",
       "        1.49508702e-02, 1.51170057e-02, 1.65525961e-02, 1.69945222e-02,\n",
       "        1.69343948e-02, 2.82697468e-06, 4.74696114e-06, 8.75143088e-05,\n",
       "        9.16389467e-06, 1.08199709e-05, 4.47948367e-03, 4.14320964e-06,\n",
       "        2.78895394e-04, 8.59714509e-05, 9.86447368e-05, 4.04702842e-04,\n",
       "        2.74136279e-04, 1.28586541e-04, 3.27255170e-04, 7.35117895e-05,\n",
       "        1.01348869e-04, 1.87459671e-06, 6.50761104e-07, 6.10635064e-06,\n",
       "        1.86527281e-04, 7.12577016e-06, 1.31426711e-05, 1.38333363e-04,\n",
       "        5.20830989e-04, 4.01542990e-05, 6.96868127e-04, 4.42585429e-04,\n",
       "        1.49779942e-04, 7.56393497e-05, 2.65180077e-04, 5.75264340e-05,\n",
       "        3.36119784e-04, 3.02386753e-04, 1.38757739e-04, 5.08965884e-06,\n",
       "        9.15143122e-06, 3.52441488e-05, 5.80674732e-04, 5.05401888e-04,\n",
       "        6.07362829e-05, 1.11078737e-03, 3.05429503e-03, 1.24556055e-03,\n",
       "        3.04828847e-04, 1.62514356e-03, 2.25323653e-07, 8.12997621e-04,\n",
       "        8.94112129e-04, 1.12545365e-03, 1.46528336e-03, 4.12569225e-04,\n",
       "        8.38788588e-04, 2.88177469e-04, 7.51285792e-06, 6.08061095e-04,\n",
       "        4.02615416e-04, 3.91098144e-04, 9.87219820e-06, 4.94074891e-07,\n",
       "        1.33694891e-05, 1.77976903e-05, 3.88020814e-06, 1.52868328e-05,\n",
       "        5.22825331e-04, 7.12484577e-04, 5.75476408e-05, 5.08111578e-06,\n",
       "        1.09625866e-04, 7.10696032e-05, 1.36943253e-04, 2.79581802e-06,\n",
       "        2.36603033e-04, 1.04366070e-04, 2.12644725e-04, 3.70100951e-04,\n",
       "        1.64374960e-04, 2.75639482e-04, 7.06308694e-05, 7.74821000e-05,\n",
       "        5.72235701e-06, 3.55650480e-05, 2.32671377e-04, 2.46244272e-04,\n",
       "        4.26037301e-04, 3.78848493e-04, 5.81284123e-04, 1.01333479e-06,\n",
       "        1.90314759e-04, 2.84061765e-05, 4.53722726e-04, 1.55568671e-04,\n",
       "        5.85008887e-04, 4.54257982e-04, 2.81479609e-06, 1.21312767e-04,\n",
       "        1.86549695e-04, 4.78225216e-04, 2.52454578e-04, 3.58265503e-04,\n",
       "        2.74627073e-04, 1.84898655e-03, 1.48781099e-03, 8.82205391e-05,\n",
       "        1.66932826e-04, 2.02282773e-03, 8.88870426e-04, 1.46710582e-03,\n",
       "        2.20419731e-05, 1.09538227e-03, 8.79546906e-04, 5.06081191e-04,\n",
       "        6.29334795e-04, 1.16006232e-03, 9.18122406e-04, 7.45758919e-04,\n",
       "        1.82072173e-05, 2.09455819e-04, 6.62371460e-06, 1.09535454e-04,\n",
       "        3.44246790e-06, 1.38898298e-05, 1.35379112e-04, 6.28050739e-05,\n",
       "        5.59099884e-05, 3.54361832e-06, 8.14749680e-06, 6.30906598e-05,\n",
       "        1.07061789e-04, 5.77050528e-05, 7.16334655e-05, 1.29668151e-04,\n",
       "        1.13770081e-05, 5.07223880e-05, 6.12716352e-05, 7.50248171e-05,\n",
       "        7.41326924e-05, 1.20356129e-04, 1.06962850e-05, 3.18173133e-06,\n",
       "        2.65816389e-05, 2.34338350e-05, 4.72918621e-09, 1.52514489e-05,\n",
       "        1.39392267e-04, 7.96653533e-05, 6.41717039e-05, 3.27466002e-04,\n",
       "        5.86500853e-04, 3.31845859e-06, 2.27906552e-04, 3.50175471e-04,\n",
       "        1.50890314e-04, 2.39538257e-04, 3.03823928e-04, 1.27716313e-06,\n",
       "        9.25975080e-08, 3.75535616e-04, 6.94880952e-05, 4.89472769e-04,\n",
       "        5.06607074e-04, 3.57989869e-04, 4.04574665e-04, 3.65182352e-04,\n",
       "        6.32810518e-06, 2.58988083e-04, 3.41026770e-04, 1.94698388e-04,\n",
       "        2.34529345e-06, 1.39919434e-06, 8.84403289e-05, 3.65769038e-04,\n",
       "        1.81203739e-04, 2.85836221e-04, 1.02358691e-03, 2.83863541e-04,\n",
       "        6.29990698e-04, 6.83051767e-05, 1.08625705e-03, 7.63359500e-05,\n",
       "        3.76545041e-06, 1.33536701e-04, 3.38704425e-04, 6.72122289e-06,\n",
       "        1.20380893e-05, 1.15708873e-06, 5.77389037e-10, 1.53573687e-03,\n",
       "        3.15030845e-04, 1.01491761e-04, 4.30593034e-04, 5.05606312e-05,\n",
       "        4.66446651e-05, 2.45271277e-04, 2.03678760e-05, 2.60836004e-05,\n",
       "        6.07551986e-06, 1.04942271e-04, 1.27830195e-04, 8.13056156e-04,\n",
       "        1.38542951e-04, 7.65864636e-05, 2.73498598e-04, 5.47202486e-04,\n",
       "        1.53976434e-04, 1.78623977e-04, 3.67498742e-06, 5.36743136e-04,\n",
       "        4.16720122e-04, 3.46661621e-06, 2.14795889e-04, 6.46037863e-06,\n",
       "        1.47844211e-04, 3.54083314e-04, 5.65157718e-05, 2.08863317e-04,\n",
       "        6.00560197e-05, 6.56794982e-05, 1.96298160e-04, 5.54848964e-05,\n",
       "        1.05853607e-05, 1.06382821e-04, 1.25465260e-04, 8.08022663e-04,\n",
       "        2.09074394e-05, 5.95720820e-05, 7.30640036e-05, 8.00269199e-05,\n",
       "        3.85182256e-04, 1.57442201e-06, 2.28196689e-05, 4.33603100e-04,\n",
       "        1.74304423e-04, 5.66679360e-05, 4.71650810e-04, 1.29269442e-04,\n",
       "        1.30838972e-04, 8.92308749e-06, 1.47983226e-05, 1.44153669e-05,\n",
       "        1.94781477e-05, 1.08312287e-04, 2.47735188e-06, 1.42366135e-05,\n",
       "        1.12239933e-06, 9.71403818e-05, 5.37064449e-06, 2.52675836e-04,\n",
       "        1.81220481e-05, 3.66612468e-04, 2.65343514e-04, 9.92630726e-05,\n",
       "        2.30069428e-05, 4.10708645e-04, 3.01990644e-05, 1.79133852e-05,\n",
       "        8.07695435e-05, 9.15888327e-05, 4.49530722e-06, 2.90150869e-06,\n",
       "        6.76132354e-05, 1.14932466e-05, 1.37945820e-05, 4.36419867e-05,\n",
       "        2.17440649e-05, 3.85561248e-04, 7.97256736e-06, 5.04294297e-04,\n",
       "        2.18060618e-05, 1.24746673e-05, 1.70273487e-05, 2.12142928e-04,\n",
       "        1.50814604e-04, 1.07937854e-04, 1.84405486e-06, 2.43078333e-06,\n",
       "        6.99313898e-06, 1.91828543e-04, 1.20099131e-04, 1.02413584e-04,\n",
       "        2.40553054e-04, 5.23228120e-06, 1.48714347e-06, 2.51186056e-04,\n",
       "        7.85968337e-04, 9.02836650e-04, 1.16286248e-04, 1.97277483e-03,\n",
       "        1.48407891e-04, 9.89102824e-04, 2.14276534e-04, 1.29333137e-03,\n",
       "        5.67102938e-04, 1.08822851e-03, 2.04358076e-04, 2.24521561e-04,\n",
       "        1.08663353e-03, 3.92000773e-04, 1.03114351e-03, 1.23404262e-03,\n",
       "        1.36084424e-03, 1.40760621e-05, 1.31810120e-03, 1.43601453e-04,\n",
       "        5.17817843e-04, 4.25120382e-05, 6.84630799e-05, 1.43675025e-03,\n",
       "        5.03704991e-04, 1.38486466e-03, 3.54726338e-04, 5.59670494e-04,\n",
       "        2.99811297e-04, 3.68308253e-04, 1.57282408e-04, 1.68529443e-04,\n",
       "        9.67137036e-05, 6.32652355e-05, 1.84690373e-06, 9.55381279e-05,\n",
       "        1.76927736e-04, 5.58858516e-04, 3.41248317e-04, 4.36191936e-04,\n",
       "        5.50106908e-06, 4.87781147e-05, 7.23499238e-06, 7.49905007e-05,\n",
       "        4.54546671e-04, 1.81094767e-04, 2.36370001e-04, 1.37126804e-04,\n",
       "        1.08390137e-04, 3.49879834e-05, 1.99798836e-05, 4.28406639e-04,\n",
       "        1.88645156e-04, 3.55223418e-04, 3.80386582e-05, 9.94155456e-05,\n",
       "        2.71911485e-04, 5.43784699e-05, 1.93353002e-04, 6.18064994e-05,\n",
       "        2.23621841e-04, 2.10009557e-04, 8.00840137e-05, 1.38235244e-05,\n",
       "        2.03752717e-04, 5.14900680e-04, 1.27044098e-04, 1.21665667e-04,\n",
       "        1.40827078e-04, 6.18111737e-05, 4.19362593e-04, 2.85848384e-04,\n",
       "        9.18997689e-05, 2.93415361e-04, 1.46255510e-04, 2.04420347e-05,\n",
       "        4.04013170e-06, 6.12065724e-05, 1.23406087e-03, 2.21750538e-04,\n",
       "        5.50334381e-04, 7.70678241e-04, 6.63953001e-04, 5.62852728e-04,\n",
       "        1.00138730e-03, 5.64051641e-06, 1.14416304e-06, 9.06263659e-04,\n",
       "        3.96755223e-06, 4.67140507e-04, 1.03543460e-05, 7.47551901e-04,\n",
       "        9.45873721e-04, 7.72751047e-04, 2.44254864e-04, 6.17119809e-04,\n",
       "        5.50751956e-04, 3.72654469e-04, 2.50901537e-04, 1.87496390e-04,\n",
       "        2.48840761e-05, 2.30385748e-04, 2.16172511e-04, 1.25144105e-04,\n",
       "        9.59477703e-04, 4.59478121e-04, 1.47506019e-05, 5.25679810e-04,\n",
       "        5.20340180e-06, 4.46143886e-06, 4.82656525e-04, 2.44944981e-05,\n",
       "        7.76655802e-06, 2.23412704e-03, 6.87809554e-04, 5.64000499e-04,\n",
       "        5.96266614e-04, 4.04197575e-04, 1.65699478e-04, 4.46677011e-04,\n",
       "        1.35534862e-03, 7.85509851e-04, 2.36701961e-04, 5.88192443e-05,\n",
       "        3.74274283e-04, 2.90566277e-06, 2.56362772e-04, 4.30499505e-04,\n",
       "        7.56176727e-04, 3.36012539e-06, 9.51524467e-06, 3.72141173e-06,\n",
       "        2.16744400e-03, 5.69915198e-04, 1.69402284e-04, 2.45919080e-03,\n",
       "        6.05064995e-04, 1.94004829e-05, 2.59647464e-03, 1.16253290e-04,\n",
       "        3.98638184e-04, 1.58529720e-03, 3.32275594e-06, 8.10555421e-04,\n",
       "        3.05314910e-04, 4.61747522e-03, 4.21755487e-04, 4.69370446e-06,\n",
       "        4.02018128e-05, 4.99077684e-04, 1.52495289e-04, 4.50014599e-05,\n",
       "        1.86658877e-03, 3.93261055e-04, 1.04092798e-03, 2.67172158e-04,\n",
       "        6.49699767e-05, 2.09402875e-06, 6.85519403e-05, 4.97123975e-06,\n",
       "        6.73775752e-06, 2.90349745e-06, 3.29236469e-05, 9.51905039e-06,\n",
       "        3.93881813e-05, 3.78153296e-05, 3.11217550e-06, 6.93525885e-05,\n",
       "        2.00064485e-05, 5.11762162e-07, 1.18930493e-05, 9.92207892e-06,\n",
       "        1.25731330e-04, 2.07089881e-05, 5.06704371e-05, 7.27776887e-06,\n",
       "        5.02772864e-06, 7.03983964e-06, 5.89553660e-05, 1.01053492e-05,\n",
       "        3.75546616e-07, 5.70562180e-06, 2.44098272e-06, 6.20280910e-05,\n",
       "        3.48742508e-05, 8.11259286e-04, 2.21869406e-03, 8.00455089e-04,\n",
       "        1.73537441e-04, 1.82391628e-04, 5.74590219e-04, 1.27310076e-03,\n",
       "        6.26026838e-04, 3.87213211e-04, 1.59814088e-03, 7.56047698e-05,\n",
       "        1.72643291e-04, 3.73735031e-04, 7.00861481e-05, 1.73694034e-04,\n",
       "        1.28389089e-04, 4.33864451e-06, 3.79084108e-04, 3.60008002e-04,\n",
       "        1.81177465e-04, 3.60184381e-04, 4.36030804e-05, 4.74120205e-04,\n",
       "        1.24228109e-04, 3.64517161e-04, 2.25975175e-04, 2.24068996e-04,\n",
       "        2.30150792e-04, 1.49084600e-04, 5.58975007e-04, 1.93511377e-06,\n",
       "        9.47335822e-06, 1.75603438e-04, 1.88025681e-05, 1.48563945e-05,\n",
       "        1.52853487e-04, 5.41203637e-04, 1.63547824e-04, 1.16899075e-05,\n",
       "        5.81182783e-04, 3.94114630e-05, 3.87643301e-05, 7.84368050e-05,\n",
       "        5.16791922e-05, 6.59834859e-04, 3.47765350e-05, 1.59031223e-03,\n",
       "        5.76975303e-05, 8.05363876e-04, 9.00798949e-04, 1.54892247e-03,\n",
       "        8.92615934e-04, 8.17176528e-04, 6.08637440e-04, 1.39959947e-03,\n",
       "        1.37173050e-04, 1.47087631e-04, 4.47005825e-06, 1.13205500e-06,\n",
       "        7.72354994e-06, 6.04191113e-06, 3.26658239e-04, 2.26271859e-06,\n",
       "        9.75496565e-06, 2.41001469e-04, 2.71786022e-04, 3.48290568e-05,\n",
       "        1.00260109e-04, 2.97013388e-04, 2.75791569e-04, 1.64228918e-06,\n",
       "        3.54830061e-04, 2.22577946e-04, 2.09856103e-03, 3.56150408e-04,\n",
       "        4.76668278e-04, 6.27701600e-04, 3.96117492e-04, 2.15764203e-04,\n",
       "        4.95391683e-04, 1.48807410e-03, 7.68173282e-04, 4.19209123e-04,\n",
       "        2.11873838e-04, 6.55726353e-05, 1.47996710e-04, 2.25232852e-04,\n",
       "        8.65357293e-06, 4.10955929e-06, 6.90866187e-06, 2.28384963e-04,\n",
       "        1.87337757e-04, 4.82035354e-04, 1.50667993e-04, 1.81845187e-04,\n",
       "        4.72828716e-04, 4.36112704e-04, 6.60401852e-04, 1.61236502e-06,\n",
       "        1.37988160e-04, 1.31112958e-08, 9.09287562e-07, 8.03616107e-06,\n",
       "        4.94266170e-05, 7.47485594e-05, 7.26186541e-04, 3.90025137e-05,\n",
       "        1.51345663e-03, 7.36126626e-05, 1.89272655e-05, 2.19542986e-04,\n",
       "        3.19427715e-04, 9.68087545e-05, 1.86751184e-05, 8.66387658e-05,\n",
       "        3.83845601e-05, 7.49486545e-06, 5.23756986e-05, 2.64776838e-06,\n",
       "        2.56571663e-04, 2.10709885e-06, 1.69462045e-04, 7.97271838e-05,\n",
       "        6.14727596e-04, 2.50100285e-04, 7.03845054e-04, 6.55478834e-04,\n",
       "        2.23477185e-04, 1.30418416e-03, 6.35690569e-05, 1.41019886e-05,\n",
       "        9.60242729e-05, 2.84149625e-04, 2.78225530e-06, 2.25329964e-04,\n",
       "        7.56213437e-05, 2.10282815e-04, 4.27477406e-06, 1.11010968e-06,\n",
       "        2.24430356e-07, 1.00631567e-04, 6.58022014e-05, 5.00073072e-04,\n",
       "        6.72957851e-06, 3.20129550e-04, 5.05472550e-04, 1.75315957e-05,\n",
       "        6.60221931e-04, 3.76468126e-04, 6.03927753e-06, 7.18011339e-04,\n",
       "        9.38046631e-05, 1.25745844e-03, 1.29244363e-04, 5.02720245e-04,\n",
       "        1.10048885e-04, 5.48907666e-04, 2.73492748e-03, 5.50953847e-04,\n",
       "        4.68723326e-05, 4.00142226e-04, 1.80538295e-04, 2.61362798e-04,\n",
       "        7.89219059e-04, 1.03235149e-03, 6.03550426e-04, 2.42645096e-04,\n",
       "        1.59037302e-06, 2.81137639e-08, 1.72176348e-04, 1.23820090e-03,\n",
       "        4.01233549e-04, 4.25834607e-05, 2.49163396e-06, 3.10198840e-06,\n",
       "        3.50892597e-08, 2.44930009e-04, 1.31619643e-07, 1.12078369e-04,\n",
       "        2.27403659e-04, 4.12941236e-04, 2.77205195e-06, 4.36321639e-07,\n",
       "        3.46907107e-05, 5.44036612e-05, 6.67238529e-05, 1.15711383e-05,\n",
       "        7.93330991e-05, 1.55369018e-05, 5.06196896e-04, 6.96760920e-04,\n",
       "        6.14329087e-04, 2.04221008e-05, 2.98546255e-04, 2.36918954e-04,\n",
       "        7.58119445e-06, 1.14271172e-04, 6.07438644e-06, 1.96254721e-04,\n",
       "        1.51215907e-05, 2.07188887e-04, 1.07515876e-04, 4.67062438e-06,\n",
       "        4.57622905e-06, 2.36621650e-04, 8.31828938e-04, 4.32644211e-04,\n",
       "        2.58366479e-04, 9.86871312e-05, 8.91926691e-05, 5.95027772e-05,\n",
       "        1.29781429e-03, 2.98788973e-04, 8.58606597e-05, 1.81500413e-04,\n",
       "        2.00201538e-04, 2.63527140e-04, 1.47717600e-04, 6.12901309e-05,\n",
       "        1.06080489e-03, 3.17580189e-04, 3.88245473e-06, 2.48043204e-04,\n",
       "        3.26025192e-06, 3.52721616e-04, 2.14889450e-04, 6.52572182e-05,\n",
       "        9.24528604e-05, 4.14560780e-05, 1.52437788e-04, 1.32847901e-06,\n",
       "        8.00037060e-06, 1.61101420e-03, 1.41518505e-04, 1.28916818e-04,\n",
       "        1.95965439e-06, 5.46911090e-04, 9.84839727e-06, 7.73451802e-04,\n",
       "        2.31123002e-04, 3.88159380e-04, 3.76599757e-04, 1.70947751e-04,\n",
       "        7.45786472e-04, 2.08604206e-03, 1.50469132e-03, 1.95061710e-03,\n",
       "        2.01529755e-03, 7.57447262e-03, 6.53479408e-05, 3.89442890e-04,\n",
       "        5.14864151e-04, 1.67844602e-04, 2.89664272e-04, 1.24509017e-04,\n",
       "        1.16132636e-04, 6.74973606e-04, 1.81390131e-04, 8.96132346e-04,\n",
       "        4.55082912e-05, 1.20644137e-05, 4.08548030e-06, 3.57454594e-04,\n",
       "        1.71048852e-04, 4.19492454e-04, 2.73140456e-04, 1.25177001e-04,\n",
       "        2.59698305e-05, 1.05666367e-06, 1.56502931e-04, 1.55587585e-06,\n",
       "        7.66605960e-05, 8.42336376e-04, 2.08114998e-04, 1.18810550e-04,\n",
       "        1.21690091e-05, 6.88717210e-05, 2.16726444e-05, 5.99726759e-04,\n",
       "        1.61981006e-04, 1.23102264e-04, 1.22976724e-04, 6.81043144e-05,\n",
       "        5.34799686e-05, 1.82276571e-04, 7.14186860e-04, 6.68359898e-04,\n",
       "        3.53372638e-04, 7.82400614e-05, 3.79845373e-04, 8.06092478e-06,\n",
       "        1.45369655e-04, 1.99601043e-04, 8.85738930e-05, 4.56378702e-05,\n",
       "        2.05572977e-04, 1.11414647e-03, 4.68812157e-05, 7.00323543e-05,\n",
       "        2.45428997e-04, 6.55210287e-05, 1.24577710e-03, 1.05952657e-06,\n",
       "        4.38548001e-04, 1.58059014e-04, 3.31001965e-04, 1.98365632e-04,\n",
       "        7.01945927e-05, 1.30808866e-04, 2.42136770e-04, 8.70455885e-06,\n",
       "        2.14242188e-04, 1.81164104e-04, 1.84251316e-04, 2.43047342e-04,\n",
       "        6.29209989e-06, 1.18056394e-04, 4.58497301e-07, 2.68935026e-06,\n",
       "        6.11491248e-04, 1.31748212e-04, 7.85938505e-05, 1.23009192e-04,\n",
       "        6.07313949e-07, 5.93200488e-06, 4.21297221e-05, 9.54524293e-06,\n",
       "        7.09873359e-05, 1.16225090e-04, 2.84178427e-06, 5.49300329e-06,\n",
       "        1.24896775e-06, 2.12744239e-06, 1.78634519e-02, 1.53587388e-05,\n",
       "        1.65101683e-04, 1.07123572e-04, 3.00892203e-06, 7.43058154e-05,\n",
       "        1.57270321e-06, 1.00669852e-05, 9.01771754e-04, 1.31837584e-06,\n",
       "        9.58600614e-04, 1.92827295e-04, 3.95337377e-05, 3.91337044e-03,\n",
       "        5.29599686e-06, 1.90154585e-06, 3.84603644e-06, 4.69790918e-05,\n",
       "        5.25315058e-07, 1.91380547e-04, 5.98278100e-06, 2.60772685e-06,\n",
       "        1.62548124e-05, 6.10437942e-04, 4.57439521e-04, 9.27158128e-07,\n",
       "        8.82564375e-07, 7.05241124e-05, 8.83435294e-06, 1.06116257e-05,\n",
       "        1.51749465e-03, 3.96485565e-06, 2.00930917e-03, 5.46403960e-03,\n",
       "        1.19126455e-05, 8.89861444e-05, 1.39445523e-05, 1.23599595e-06,\n",
       "        4.45688392e-04, 3.55276105e-03, 3.97107345e-07, 8.92416648e-05,\n",
       "        4.22087736e-05, 9.55295928e-05, 2.52700493e-04, 3.65476606e-08,\n",
       "        1.36685645e-03, 3.11046366e-02, 5.74487223e-06, 1.36001964e-06,\n",
       "        1.76144733e-04, 8.53399928e-05, 2.04070577e-05, 4.54519602e-04,\n",
       "        1.40190068e-04, 1.35072363e-04, 4.69253583e-06, 1.91275457e-03,\n",
       "        6.64770949e-07, 4.35191225e-07, 7.48331044e-05, 1.96163071e-04,\n",
       "        6.45591494e-05, 2.11407088e-06, 2.22515312e-06, 6.02786575e-07,\n",
       "        6.85122446e-06, 1.57425883e-03, 1.49348483e-05, 3.16397794e-05,\n",
       "        3.35664548e-04, 1.43627255e-04, 1.48821030e-04, 8.31034062e-05,\n",
       "        4.91576611e-04, 6.28365725e-05, 4.07508189e-03, 3.67963983e-06,\n",
       "        6.63963531e-06, 3.21707282e-06, 3.96294180e-06, 3.89558123e-03,\n",
       "        8.51283075e-05, 1.37367869e-04, 8.37550590e-07, 2.70121375e-04,\n",
       "        1.90120549e-04, 2.99246891e-03, 4.36754556e-07, 3.55402046e-03,\n",
       "        3.41659624e-06, 1.55362839e-06, 2.72865473e-06, 4.65950258e-05,\n",
       "        7.67977023e-06, 1.84253607e-04, 8.01967257e-04, 1.87769176e-03,\n",
       "        6.36698922e-05, 2.29190495e-03, 3.76366834e-02, 1.56894806e-01,\n",
       "        1.07905105e-01, 1.33550707e-01, 1.68801373e-02, 1.96332882e-02,\n",
       "        2.22456280e-02, 3.69344252e-02]))"
      ]
     },
     "execution_count": 111,
     "metadata": {},
     "output_type": "execute_result"
    }
   ],
   "source": [
    "from sklearn.metrics import accuracy_score, precision_score, recall_score, f1_score\n",
    "\n",
    "# Compute evaluation metrics\n",
    "accuracy = scores.mean()\n",
    "precision = precision_score(y, rf.predict(X))\n",
    "recall = recall_score(y, rf.predict(X))\n",
    "f1 = f1_score(y, rf.predict(X))\n",
    "\n",
    "# Compute feature importance\n",
    "feature_importance = rf.feature_importances_\n",
    "\n",
    "accuracy, precision, recall, f1, feature_importance"
   ]
  }
 ],
 "metadata": {
  "kernelspec": {
   "display_name": "Python 3.9.13 ('venv': venv)",
   "language": "python",
   "name": "python3"
  },
  "language_info": {
   "codemirror_mode": {
    "name": "ipython",
    "version": 3
   },
   "file_extension": ".py",
   "mimetype": "text/x-python",
   "name": "python",
   "nbconvert_exporter": "python",
   "pygments_lexer": "ipython3",
   "version": "3.8.12"
  },
  "orig_nbformat": 4,
  "vscode": {
   "interpreter": {
    "hash": "4f7924c4c56b083e0e50eadfe7ef592a7a8ef70df33a0047f82280e6be1afe15"
   }
  }
 },
 "nbformat": 4,
 "nbformat_minor": 2
}
