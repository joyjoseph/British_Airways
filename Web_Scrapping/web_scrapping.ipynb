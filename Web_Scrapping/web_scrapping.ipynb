{
 "cells": [
  {
   "cell_type": "markdown",
   "metadata": {},
   "source": [
    "## Web Scraping and Analysis\n",
    "\n",
    "### Introduction \n",
    "British Airways (BA) is the flag carrier airline of the United Kingdom (UK). Every day, thousands of BA flights arrive to and depart from the UK, carrying customers across the world. Whether it’s for holidays, work or any other reason, the end-to-end process of scheduling, planning, boarding, fuelling, transporting, landing, and continuously running flights on time, efficiently and with top-class customer service is a huge task with many highly important responsibilities.\n",
    "\n",
    "As a data scientist at British Airways, it will be your job to apply your analytical skills to influence real life multi-million-pound decisions from day one, making a tangible impact on the business as your recommendations, tools and models drive key business decisions, reduce costs and increase revenue.Customers who book a flight with BA will experience many interaction points with the BA brand. Understanding a customer's feelings, needs, and feedback is crucial for any business, British Airways. The steps taken are;\n",
    "\n",
    "\n",
    "### 1. Scraping data from Skytrax\n",
    "\n",
    "For this task, we will reviews the [British Airways Airline data](https://www.airlinequality.com/airline-reviews/british-airways).  `Python` and `BeautifulSoup` will be used to collect all the links to the reviews and then to collect the text data on each of the individual review links.\n",
    "\n",
    "### 2. Analyse the data\n",
    "Once we have the dataset, we will prepare it. The data is very messy and contain purely text. We will need to perform data cleaning in order to prepare the data for analysis. When the data is clean, we should perform several analysis to uncover some insights. \n",
    "\n",
    "### 3. Present insights\n",
    "We have been required by the manager to summarise our findings within a single PowerPoint slide, so that they can present the results at the next board meeting. We would create visualisations and metrics to include within this slide, as well as clear and concise explanations in order to quickly provide the key points from our analysis.\n"
   ]
  },
  {
   "attachments": {},
   "cell_type": "markdown",
   "metadata": {},
   "source": [
    "### 1. Scraping data from Skytrax"
   ]
  },
  {
   "cell_type": "code",
   "execution_count": 1,
   "metadata": {},
   "outputs": [],
   "source": [
    "# importing required libaries \n",
    "import requests\n",
    "from bs4 import BeautifulSoup\n",
    "import pandas as pd"
   ]
  },
  {
   "cell_type": "code",
   "execution_count": 2,
   "metadata": {},
   "outputs": [
    {
     "name": "stdout",
     "output_type": "stream",
     "text": [
      "Scraping page 1\n",
      "   ---> 100 total reviews\n",
      "Scraping page 2\n",
      "   ---> 200 total reviews\n",
      "Scraping page 3\n",
      "   ---> 300 total reviews\n",
      "Scraping page 4\n",
      "   ---> 400 total reviews\n",
      "Scraping page 5\n",
      "   ---> 500 total reviews\n",
      "Scraping page 6\n",
      "   ---> 600 total reviews\n",
      "Scraping page 7\n",
      "   ---> 700 total reviews\n",
      "Scraping page 8\n",
      "   ---> 800 total reviews\n",
      "Scraping page 9\n",
      "   ---> 900 total reviews\n",
      "Scraping page 10\n",
      "   ---> 1000 total reviews\n",
      "Scraping page 11\n",
      "   ---> 1100 total reviews\n",
      "Scraping page 12\n",
      "   ---> 1200 total reviews\n",
      "Scraping page 13\n",
      "   ---> 1300 total reviews\n",
      "Scraping page 14\n",
      "   ---> 1400 total reviews\n",
      "Scraping page 15\n",
      "   ---> 1500 total reviews\n",
      "Scraping page 16\n",
      "   ---> 1600 total reviews\n",
      "Scraping page 17\n",
      "   ---> 1700 total reviews\n",
      "Scraping page 18\n",
      "   ---> 1800 total reviews\n",
      "Scraping page 19\n",
      "   ---> 1900 total reviews\n",
      "Scraping page 20\n",
      "   ---> 2000 total reviews\n"
     ]
    }
   ],
   "source": [
    "# making a request to the site that contains the reviews we will be extracting\n",
    "# The loops used to collect 2000 reviews by iterating through the paginated pages on the website.\n",
    "base_url = \"https://www.airlinequality.com/airline-reviews/british-airways\"\n",
    "pages = 20\n",
    "page_size = 100\n",
    "\n",
    "reviews = []\n",
    "\n",
    "# for i in range(1, pages + 1):\n",
    "for i in range(1, pages + 1):\n",
    "\n",
    "    print(f\"Scraping page {i}\")\n",
    "\n",
    "    # Create URL to collect links from paginated data\n",
    "    url = f\"{base_url}/page/{i}/?sortby=post_date%3ADesc&pagesize={page_size}\"\n",
    "\n",
    "    # Collect HTML data from this page\n",
    "    response = requests.get(url)\n",
    "\n",
    "    # Parse content\n",
    "    content = response.content\n",
    "    parsed_content = BeautifulSoup(content, 'html.parser')\n",
    "    for para in parsed_content.find_all(\"div\", {\"class\": \"text_content\"}):\n",
    "        reviews.append(para.get_text())\n",
    "    \n",
    "    print(f\"   ---> {len(reviews)} total reviews\")"
   ]
  },
  {
   "cell_type": "code",
   "execution_count": 3,
   "metadata": {},
   "outputs": [],
   "source": [
    "# Creating a pandas dataframe out of the reviews list\n",
    "df = pd.DataFrame()\n",
    "df[\"reviews\"] = reviews"
   ]
  },
  {
   "attachments": {},
   "cell_type": "markdown",
   "metadata": {},
   "source": [
    "### 2. Analyse the data"
   ]
  },
  {
   "attachments": {},
   "cell_type": "markdown",
   "metadata": {},
   "source": [
    "* Calculating four metrics for each review:"
   ]
  },
  {
   "cell_type": "code",
   "execution_count": 4,
   "metadata": {},
   "outputs": [],
   "source": [
    "# Calculate word count - total number of words in each review\n",
    "df['word_count'] = df['reviews'].apply(lambda x: len(str(x).split(\" \")))"
   ]
  },
  {
   "cell_type": "code",
   "execution_count": 5,
   "metadata": {},
   "outputs": [],
   "source": [
    "# Calculate character count - total number of characters in each review\n",
    "df['char_count'] = df['reviews'].str.len()"
   ]
  },
  {
   "cell_type": "code",
   "execution_count": 6,
   "metadata": {},
   "outputs": [],
   "source": [
    "# Average word length – the average length of words used\n",
    "def avg_word(review):\n",
    "  words = review.split()\n",
    "  return (sum(len(word) for word in words) / len(words))\n",
    "\n",
    "# Calculate average words\n",
    "df['avg_word'] = df['reviews'].apply(lambda x: avg_word(x))"
   ]
  },
  {
   "cell_type": "code",
   "execution_count": 7,
   "metadata": {},
   "outputs": [
    {
     "name": "stderr",
     "output_type": "stream",
     "text": [
      "[nltk_data] Downloading package stopwords to\n",
      "[nltk_data]     C:\\Users\\USER\\AppData\\Roaming\\nltk_data...\n",
      "[nltk_data]   Package stopwords is already up-to-date!\n"
     ]
    }
   ],
   "source": [
    "# Import stopwords\n",
    "import nltk\n",
    "nltk.download('stopwords')\n",
    "from nltk.corpus import stopwords"
   ]
  },
  {
   "cell_type": "code",
   "execution_count": 8,
   "metadata": {},
   "outputs": [],
   "source": [
    "# Calculate number of stop words\n",
    "stop_words = stopwords.words('english')\n",
    "df['stopword_count'] = df['reviews'].apply(lambda x: len([x for x in x.split() if x in stop_words]))"
   ]
  },
  {
   "cell_type": "code",
   "execution_count": 9,
   "metadata": {},
   "outputs": [
    {
     "data": {
      "text/html": [
       "<div>\n",
       "<style scoped>\n",
       "    .dataframe tbody tr th:only-of-type {\n",
       "        vertical-align: middle;\n",
       "    }\n",
       "\n",
       "    .dataframe tbody tr th {\n",
       "        vertical-align: top;\n",
       "    }\n",
       "\n",
       "    .dataframe thead th {\n",
       "        text-align: right;\n",
       "    }\n",
       "</style>\n",
       "<table border=\"1\" class=\"dataframe\">\n",
       "  <thead>\n",
       "    <tr style=\"text-align: right;\">\n",
       "      <th></th>\n",
       "      <th>word_count</th>\n",
       "      <th>char_count</th>\n",
       "      <th>avg_word</th>\n",
       "      <th>stopword_count</th>\n",
       "    </tr>\n",
       "  </thead>\n",
       "  <tbody>\n",
       "    <tr>\n",
       "      <th>count</th>\n",
       "      <td>2000.000000</td>\n",
       "      <td>2000.000000</td>\n",
       "      <td>2000.000000</td>\n",
       "      <td>2000.000000</td>\n",
       "    </tr>\n",
       "    <tr>\n",
       "      <th>mean</th>\n",
       "      <td>172.135000</td>\n",
       "      <td>938.608000</td>\n",
       "      <td>4.530480</td>\n",
       "      <td>68.895000</td>\n",
       "    </tr>\n",
       "    <tr>\n",
       "      <th>std</th>\n",
       "      <td>111.787477</td>\n",
       "      <td>601.803078</td>\n",
       "      <td>0.288742</td>\n",
       "      <td>49.154716</td>\n",
       "    </tr>\n",
       "    <tr>\n",
       "      <th>min</th>\n",
       "      <td>28.000000</td>\n",
       "      <td>148.000000</td>\n",
       "      <td>3.670000</td>\n",
       "      <td>5.000000</td>\n",
       "    </tr>\n",
       "    <tr>\n",
       "      <th>25%</th>\n",
       "      <td>92.000000</td>\n",
       "      <td>508.000000</td>\n",
       "      <td>4.333070</td>\n",
       "      <td>34.000000</td>\n",
       "    </tr>\n",
       "    <tr>\n",
       "      <th>50%</th>\n",
       "      <td>144.500000</td>\n",
       "      <td>798.000000</td>\n",
       "      <td>4.514152</td>\n",
       "      <td>57.000000</td>\n",
       "    </tr>\n",
       "    <tr>\n",
       "      <th>75%</th>\n",
       "      <td>214.000000</td>\n",
       "      <td>1181.000000</td>\n",
       "      <td>4.697146</td>\n",
       "      <td>87.000000</td>\n",
       "    </tr>\n",
       "    <tr>\n",
       "      <th>max</th>\n",
       "      <td>659.000000</td>\n",
       "      <td>3529.000000</td>\n",
       "      <td>5.838710</td>\n",
       "      <td>323.000000</td>\n",
       "    </tr>\n",
       "  </tbody>\n",
       "</table>\n",
       "</div>"
      ],
      "text/plain": [
       "        word_count   char_count     avg_word  stopword_count\n",
       "count  2000.000000  2000.000000  2000.000000     2000.000000\n",
       "mean    172.135000   938.608000     4.530480       68.895000\n",
       "std     111.787477   601.803078     0.288742       49.154716\n",
       "min      28.000000   148.000000     3.670000        5.000000\n",
       "25%      92.000000   508.000000     4.333070       34.000000\n",
       "50%     144.500000   798.000000     4.514152       57.000000\n",
       "75%     214.000000  1181.000000     4.697146       87.000000\n",
       "max     659.000000  3529.000000     5.838710      323.000000"
      ]
     },
     "execution_count": 9,
     "metadata": {},
     "output_type": "execute_result"
    }
   ],
   "source": [
    "# a review the summary statistics\n",
    "df.describe()"
   ]
  },
  {
   "cell_type": "code",
   "execution_count": 10,
   "metadata": {},
   "outputs": [
    {
     "data": {
      "text/html": [
       "<div>\n",
       "<style scoped>\n",
       "    .dataframe tbody tr th:only-of-type {\n",
       "        vertical-align: middle;\n",
       "    }\n",
       "\n",
       "    .dataframe tbody tr th {\n",
       "        vertical-align: top;\n",
       "    }\n",
       "\n",
       "    .dataframe thead th {\n",
       "        text-align: right;\n",
       "    }\n",
       "</style>\n",
       "<table border=\"1\" class=\"dataframe\">\n",
       "  <thead>\n",
       "    <tr style=\"text-align: right;\">\n",
       "      <th></th>\n",
       "      <th>reviews</th>\n",
       "      <th>word_count</th>\n",
       "      <th>char_count</th>\n",
       "      <th>avg_word</th>\n",
       "      <th>stopword_count</th>\n",
       "    </tr>\n",
       "  </thead>\n",
       "  <tbody>\n",
       "    <tr>\n",
       "      <th>0</th>\n",
       "      <td>✅ Trip Verified |  BA shuttle service across t...</td>\n",
       "      <td>101</td>\n",
       "      <td>527</td>\n",
       "      <td>4.270000</td>\n",
       "      <td>36</td>\n",
       "    </tr>\n",
       "    <tr>\n",
       "      <th>1</th>\n",
       "      <td>✅ Trip Verified | I must admit like many other...</td>\n",
       "      <td>155</td>\n",
       "      <td>828</td>\n",
       "      <td>4.348387</td>\n",
       "      <td>52</td>\n",
       "    </tr>\n",
       "    <tr>\n",
       "      <th>2</th>\n",
       "      <td>Not Verified |  When will BA update their Busi...</td>\n",
       "      <td>102</td>\n",
       "      <td>596</td>\n",
       "      <td>4.950000</td>\n",
       "      <td>32</td>\n",
       "    </tr>\n",
       "    <tr>\n",
       "      <th>3</th>\n",
       "      <td>✅ Trip Verified |  Paid £200 day before flight...</td>\n",
       "      <td>189</td>\n",
       "      <td>1001</td>\n",
       "      <td>4.324468</td>\n",
       "      <td>80</td>\n",
       "    </tr>\n",
       "    <tr>\n",
       "      <th>4</th>\n",
       "      <td>✅ Trip Verified |  BA website did not work (we...</td>\n",
       "      <td>142</td>\n",
       "      <td>799</td>\n",
       "      <td>4.666667</td>\n",
       "      <td>45</td>\n",
       "    </tr>\n",
       "    <tr>\n",
       "      <th>5</th>\n",
       "      <td>✅ Trip Verified |  Absolutely terrible experie...</td>\n",
       "      <td>127</td>\n",
       "      <td>721</td>\n",
       "      <td>4.722222</td>\n",
       "      <td>51</td>\n",
       "    </tr>\n",
       "    <tr>\n",
       "      <th>6</th>\n",
       "      <td>✅ Trip Verified |  Vancouver to Delhi via Lond...</td>\n",
       "      <td>576</td>\n",
       "      <td>3209</td>\n",
       "      <td>4.588850</td>\n",
       "      <td>257</td>\n",
       "    </tr>\n",
       "    <tr>\n",
       "      <th>7</th>\n",
       "      <td>✅ Trip Verified |  Old A320 with narrow pitch....</td>\n",
       "      <td>30</td>\n",
       "      <td>182</td>\n",
       "      <td>5.275862</td>\n",
       "      <td>6</td>\n",
       "    </tr>\n",
       "    <tr>\n",
       "      <th>8</th>\n",
       "      <td>✅ Trip Verified |  Another BA Shambles. Starte...</td>\n",
       "      <td>274</td>\n",
       "      <td>1492</td>\n",
       "      <td>4.498155</td>\n",
       "      <td>102</td>\n",
       "    </tr>\n",
       "    <tr>\n",
       "      <th>9</th>\n",
       "      <td>Not Verified |  BA cancelled my flight home to...</td>\n",
       "      <td>147</td>\n",
       "      <td>786</td>\n",
       "      <td>4.383562</td>\n",
       "      <td>65</td>\n",
       "    </tr>\n",
       "  </tbody>\n",
       "</table>\n",
       "</div>"
      ],
      "text/plain": [
       "                                             reviews  word_count  char_count  \\\n",
       "0  ✅ Trip Verified |  BA shuttle service across t...         101         527   \n",
       "1  ✅ Trip Verified | I must admit like many other...         155         828   \n",
       "2  Not Verified |  When will BA update their Busi...         102         596   \n",
       "3  ✅ Trip Verified |  Paid £200 day before flight...         189        1001   \n",
       "4  ✅ Trip Verified |  BA website did not work (we...         142         799   \n",
       "5  ✅ Trip Verified |  Absolutely terrible experie...         127         721   \n",
       "6  ✅ Trip Verified |  Vancouver to Delhi via Lond...         576        3209   \n",
       "7  ✅ Trip Verified |  Old A320 with narrow pitch....          30         182   \n",
       "8  ✅ Trip Verified |  Another BA Shambles. Starte...         274        1492   \n",
       "9  Not Verified |  BA cancelled my flight home to...         147         786   \n",
       "\n",
       "   avg_word  stopword_count  \n",
       "0  4.270000              36  \n",
       "1  4.348387              52  \n",
       "2  4.950000              32  \n",
       "3  4.324468              80  \n",
       "4  4.666667              45  \n",
       "5  4.722222              51  \n",
       "6  4.588850             257  \n",
       "7  5.275862               6  \n",
       "8  4.498155             102  \n",
       "9  4.383562              65  "
      ]
     },
     "execution_count": 10,
     "metadata": {},
     "output_type": "execute_result"
    }
   ],
   "source": [
    "# calling the first 10 dataset\n",
    "df.head(10)"
   ]
  },
  {
   "cell_type": "code",
   "execution_count": 11,
   "metadata": {},
   "outputs": [
    {
     "data": {
      "text/html": [
       "<div>\n",
       "<style scoped>\n",
       "    .dataframe tbody tr th:only-of-type {\n",
       "        vertical-align: middle;\n",
       "    }\n",
       "\n",
       "    .dataframe tbody tr th {\n",
       "        vertical-align: top;\n",
       "    }\n",
       "\n",
       "    .dataframe thead th {\n",
       "        text-align: right;\n",
       "    }\n",
       "</style>\n",
       "<table border=\"1\" class=\"dataframe\">\n",
       "  <thead>\n",
       "    <tr style=\"text-align: right;\">\n",
       "      <th></th>\n",
       "      <th>reviews</th>\n",
       "      <th>word_count</th>\n",
       "      <th>char_count</th>\n",
       "      <th>avg_word</th>\n",
       "      <th>stopword_count</th>\n",
       "    </tr>\n",
       "  </thead>\n",
       "  <tbody>\n",
       "    <tr>\n",
       "      <th>1990</th>\n",
       "      <td>London Gatwick to Lima with British Airways. T...</td>\n",
       "      <td>143</td>\n",
       "      <td>788</td>\n",
       "      <td>4.517483</td>\n",
       "      <td>60</td>\n",
       "    </tr>\n",
       "    <tr>\n",
       "      <th>1991</th>\n",
       "      <td>✅ Verified Review |  Flew British Airways from...</td>\n",
       "      <td>90</td>\n",
       "      <td>502</td>\n",
       "      <td>4.640449</td>\n",
       "      <td>29</td>\n",
       "    </tr>\n",
       "    <tr>\n",
       "      <th>1992</th>\n",
       "      <td>✅ Verified Review |  After a hiatus of almost ...</td>\n",
       "      <td>187</td>\n",
       "      <td>1117</td>\n",
       "      <td>5.032432</td>\n",
       "      <td>69</td>\n",
       "    </tr>\n",
       "    <tr>\n",
       "      <th>1993</th>\n",
       "      <td>✅ Verified Review |  Flew with British Airways...</td>\n",
       "      <td>163</td>\n",
       "      <td>863</td>\n",
       "      <td>4.354037</td>\n",
       "      <td>72</td>\n",
       "    </tr>\n",
       "    <tr>\n",
       "      <th>1994</th>\n",
       "      <td>✅ Verified Review |  \\r\\nGoing against the gra...</td>\n",
       "      <td>518</td>\n",
       "      <td>2840</td>\n",
       "      <td>4.489362</td>\n",
       "      <td>202</td>\n",
       "    </tr>\n",
       "    <tr>\n",
       "      <th>1995</th>\n",
       "      <td>I was very impressed with the World Traveller ...</td>\n",
       "      <td>260</td>\n",
       "      <td>1466</td>\n",
       "      <td>4.642308</td>\n",
       "      <td>113</td>\n",
       "    </tr>\n",
       "    <tr>\n",
       "      <th>1996</th>\n",
       "      <td>Flew British Airways from Gatwick to Punta Can...</td>\n",
       "      <td>264</td>\n",
       "      <td>1420</td>\n",
       "      <td>4.382576</td>\n",
       "      <td>114</td>\n",
       "    </tr>\n",
       "    <tr>\n",
       "      <th>1997</th>\n",
       "      <td>✅ Verified Review |  This was a flight from Ga...</td>\n",
       "      <td>268</td>\n",
       "      <td>1501</td>\n",
       "      <td>4.621723</td>\n",
       "      <td>108</td>\n",
       "    </tr>\n",
       "    <tr>\n",
       "      <th>1998</th>\n",
       "      <td>London to Calgary. It's hard to know quite wha...</td>\n",
       "      <td>78</td>\n",
       "      <td>408</td>\n",
       "      <td>4.243590</td>\n",
       "      <td>31</td>\n",
       "    </tr>\n",
       "    <tr>\n",
       "      <th>1999</th>\n",
       "      <td>Warsaw to Heathrow, and the check in is only o...</td>\n",
       "      <td>67</td>\n",
       "      <td>340</td>\n",
       "      <td>4.089552</td>\n",
       "      <td>26</td>\n",
       "    </tr>\n",
       "  </tbody>\n",
       "</table>\n",
       "</div>"
      ],
      "text/plain": [
       "                                                reviews  word_count  \\\n",
       "1990  London Gatwick to Lima with British Airways. T...         143   \n",
       "1991  ✅ Verified Review |  Flew British Airways from...          90   \n",
       "1992  ✅ Verified Review |  After a hiatus of almost ...         187   \n",
       "1993  ✅ Verified Review |  Flew with British Airways...         163   \n",
       "1994  ✅ Verified Review |  \\r\\nGoing against the gra...         518   \n",
       "1995  I was very impressed with the World Traveller ...         260   \n",
       "1996  Flew British Airways from Gatwick to Punta Can...         264   \n",
       "1997  ✅ Verified Review |  This was a flight from Ga...         268   \n",
       "1998  London to Calgary. It's hard to know quite wha...          78   \n",
       "1999  Warsaw to Heathrow, and the check in is only o...          67   \n",
       "\n",
       "      char_count  avg_word  stopword_count  \n",
       "1990         788  4.517483              60  \n",
       "1991         502  4.640449              29  \n",
       "1992        1117  5.032432              69  \n",
       "1993         863  4.354037              72  \n",
       "1994        2840  4.489362             202  \n",
       "1995        1466  4.642308             113  \n",
       "1996        1420  4.382576             114  \n",
       "1997        1501  4.621723             108  \n",
       "1998         408  4.243590              31  \n",
       "1999         340  4.089552              26  "
      ]
     },
     "execution_count": 11,
     "metadata": {},
     "output_type": "execute_result"
    }
   ],
   "source": [
    "# calling the last 10 dataset\n",
    "df.tail(10)"
   ]
  },
  {
   "cell_type": "code",
   "execution_count": 12,
   "metadata": {},
   "outputs": [],
   "source": [
    "# saving data collected \n",
    "df.to_csv(\"data/BA_reviews.csv\")"
   ]
  },
  {
   "cell_type": "code",
   "execution_count": 13,
   "metadata": {},
   "outputs": [
    {
     "data": {
      "text/plain": [
       "reviews            object\n",
       "word_count          int64\n",
       "char_count          int64\n",
       "avg_word          float64\n",
       "stopword_count      int64\n",
       "dtype: object"
      ]
     },
     "execution_count": 13,
     "metadata": {},
     "output_type": "execute_result"
    }
   ],
   "source": [
    "# checking for the data types\n",
    "df.dtypes"
   ]
  },
  {
   "attachments": {},
   "cell_type": "markdown",
   "metadata": {},
   "source": [
    "* Data Cleaning\n",
    "\n",
    "In this session, we will be focused more on items listed below;\n",
    "\n",
    "*Lowercasing all words*\n",
    "\n",
    "*Removing punctuation*\n",
    "\n",
    "*Removing stopwords*\n",
    "\n",
    "*Removing excessively short and frequent words that are not important*"
   ]
  },
  {
   "attachments": {},
   "cell_type": "markdown",
   "metadata": {},
   "source": [
    "*Lowercasing all words*\n",
    "\n",
    "By lowercasing all of the text in the reviews it means that words which are capitalised won’t be missed"
   ]
  },
  {
   "cell_type": "code",
   "execution_count": 31,
   "metadata": {},
   "outputs": [
    {
     "data": {
      "text/plain": [
       "0       ✅ trip verified | ba shuttle service across th...\n",
       "1       ✅ trip verified | i must admit like many other...\n",
       "2       not verified | when will ba update their busin...\n",
       "3       ✅ trip verified | paid £200 day before flight ...\n",
       "4       ✅ trip verified | ba website did not work (wei...\n",
       "                              ...                        \n",
       "1995    i was very impressed with the world traveller ...\n",
       "1996    flew british airways from gatwick to punta can...\n",
       "1997    ✅ verified review | this was a flight from gat...\n",
       "1998    london to calgary. it's hard to know quite wha...\n",
       "1999    warsaw to heathrow, and the check in is only o...\n",
       "Name: reviews, Length: 2000, dtype: object"
      ]
     },
     "execution_count": 31,
     "metadata": {},
     "output_type": "execute_result"
    }
   ],
   "source": [
    "# Lowercasing  all words\n",
    "df['reviews'].apply(lambda x: \" \".join(x.lower() for x in x.split()))"
   ]
  },
  {
   "cell_type": "code",
   "execution_count": 23,
   "metadata": {},
   "outputs": [],
   "source": [
    "# storing it up in a new column\n",
    "df['reviews_lower'] = df['reviews'].apply(lambda x: \" \".join(x.lower() for x in x.split()))"
   ]
  },
  {
   "attachments": {},
   "cell_type": "markdown",
   "metadata": {},
   "source": [
    "*Removing punctuation*\n",
    " \n",
    "It is best to strip out punctuations as it does not add much meaning when searching for a word or trying to ascertain sentiment."
   ]
  },
  {
   "cell_type": "code",
   "execution_count": 30,
   "metadata": {},
   "outputs": [
    {
     "name": "stderr",
     "output_type": "stream",
     "text": [
      "C:\\Users\\USER\\AppData\\Local\\Temp\\ipykernel_14892\\870629568.py:2: FutureWarning: The default value of regex will change from True to False in a future version.\n",
      "  df['reviews_lower'].str.replace('[^\\w\\s]', '')\n"
     ]
    },
    {
     "data": {
      "text/plain": [
       "0        trip verified  ba shuttle service across the ...\n",
       "1        trip verified  i must admit like many others ...\n",
       "2       not verified  when will ba update their busine...\n",
       "3        trip verified  paid 200 day before flight for...\n",
       "4        trip verified  ba website did not work weirdl...\n",
       "                              ...                        \n",
       "1995    i was very impressed with the world traveller ...\n",
       "1996    flew british airways from gatwick to punta can...\n",
       "1997     verified review  this was a flight from gatwi...\n",
       "1998    london to calgary its hard to know quite what ...\n",
       "1999    warsaw to heathrow and the check in is only op...\n",
       "Name: reviews_lower, Length: 2000, dtype: object"
      ]
     },
     "execution_count": 30,
     "metadata": {},
     "output_type": "execute_result"
    }
   ],
   "source": [
    "# Removing Punctuations\n",
    "df['reviews_lower'].str.replace('[^\\w\\s]', '')"
   ]
  },
  {
   "cell_type": "code",
   "execution_count": 24,
   "metadata": {},
   "outputs": [
    {
     "name": "stderr",
     "output_type": "stream",
     "text": [
      "C:\\Users\\USER\\AppData\\Local\\Temp\\ipykernel_14892\\3524894580.py:2: FutureWarning: The default value of regex will change from True to False in a future version.\n",
      "  df['reviews_nopun'] = df['reviews_lower'].str.replace('[^\\w\\s]', '')\n"
     ]
    }
   ],
   "source": [
    "# storing it up in a new column\n",
    "df['reviews_nopun'] = df['reviews_lower'].str.replace('[^\\w\\s]', '')"
   ]
  },
  {
   "attachments": {},
   "cell_type": "markdown",
   "metadata": {},
   "source": [
    "*Removing stopwords*\n",
    "\n",
    "Stop words are commonly occuring words that hold little to no meaning. Hence, it is common practice in natural language processing to take them off."
   ]
  },
  {
   "cell_type": "code",
   "execution_count": 35,
   "metadata": {},
   "outputs": [
    {
     "data": {
      "text/plain": [
       "['i',\n",
       " 'me',\n",
       " 'my',\n",
       " 'myself',\n",
       " 'we',\n",
       " 'our',\n",
       " 'ours',\n",
       " 'ourselves',\n",
       " 'you',\n",
       " \"you're\",\n",
       " \"you've\",\n",
       " \"you'll\",\n",
       " \"you'd\",\n",
       " 'your',\n",
       " 'yours',\n",
       " 'yourself',\n",
       " 'yourselves',\n",
       " 'he',\n",
       " 'him',\n",
       " 'his',\n",
       " 'himself',\n",
       " 'she',\n",
       " \"she's\",\n",
       " 'her',\n",
       " 'hers',\n",
       " 'herself',\n",
       " 'it',\n",
       " \"it's\",\n",
       " 'its',\n",
       " 'itself',\n",
       " 'they',\n",
       " 'them',\n",
       " 'their',\n",
       " 'theirs',\n",
       " 'themselves',\n",
       " 'what',\n",
       " 'which',\n",
       " 'who',\n",
       " 'whom',\n",
       " 'this',\n",
       " 'that',\n",
       " \"that'll\",\n",
       " 'these',\n",
       " 'those',\n",
       " 'am',\n",
       " 'is',\n",
       " 'are',\n",
       " 'was',\n",
       " 'were',\n",
       " 'be',\n",
       " 'been',\n",
       " 'being',\n",
       " 'have',\n",
       " 'has',\n",
       " 'had',\n",
       " 'having',\n",
       " 'do',\n",
       " 'does',\n",
       " 'did',\n",
       " 'doing',\n",
       " 'a',\n",
       " 'an',\n",
       " 'the',\n",
       " 'and',\n",
       " 'but',\n",
       " 'if',\n",
       " 'or',\n",
       " 'because',\n",
       " 'as',\n",
       " 'until',\n",
       " 'while',\n",
       " 'of',\n",
       " 'at',\n",
       " 'by',\n",
       " 'for',\n",
       " 'with',\n",
       " 'about',\n",
       " 'against',\n",
       " 'between',\n",
       " 'into',\n",
       " 'through',\n",
       " 'during',\n",
       " 'before',\n",
       " 'after',\n",
       " 'above',\n",
       " 'below',\n",
       " 'to',\n",
       " 'from',\n",
       " 'up',\n",
       " 'down',\n",
       " 'in',\n",
       " 'out',\n",
       " 'on',\n",
       " 'off',\n",
       " 'over',\n",
       " 'under',\n",
       " 'again',\n",
       " 'further',\n",
       " 'then',\n",
       " 'once',\n",
       " 'here',\n",
       " 'there',\n",
       " 'when',\n",
       " 'where',\n",
       " 'why',\n",
       " 'how',\n",
       " 'all',\n",
       " 'any',\n",
       " 'both',\n",
       " 'each',\n",
       " 'few',\n",
       " 'more',\n",
       " 'most',\n",
       " 'other',\n",
       " 'some',\n",
       " 'such',\n",
       " 'no',\n",
       " 'nor',\n",
       " 'not',\n",
       " 'only',\n",
       " 'own',\n",
       " 'same',\n",
       " 'so',\n",
       " 'than',\n",
       " 'too',\n",
       " 'very',\n",
       " 's',\n",
       " 't',\n",
       " 'can',\n",
       " 'will',\n",
       " 'just',\n",
       " 'don',\n",
       " \"don't\",\n",
       " 'should',\n",
       " \"should've\",\n",
       " 'now',\n",
       " 'd',\n",
       " 'll',\n",
       " 'm',\n",
       " 'o',\n",
       " 're',\n",
       " 've',\n",
       " 'y',\n",
       " 'ain',\n",
       " 'aren',\n",
       " \"aren't\",\n",
       " 'couldn',\n",
       " \"couldn't\",\n",
       " 'didn',\n",
       " \"didn't\",\n",
       " 'doesn',\n",
       " \"doesn't\",\n",
       " 'hadn',\n",
       " \"hadn't\",\n",
       " 'hasn',\n",
       " \"hasn't\",\n",
       " 'haven',\n",
       " \"haven't\",\n",
       " 'isn',\n",
       " \"isn't\",\n",
       " 'ma',\n",
       " 'mightn',\n",
       " \"mightn't\",\n",
       " 'mustn',\n",
       " \"mustn't\",\n",
       " 'needn',\n",
       " \"needn't\",\n",
       " 'shan',\n",
       " \"shan't\",\n",
       " 'shouldn',\n",
       " \"shouldn't\",\n",
       " 'wasn',\n",
       " \"wasn't\",\n",
       " 'weren',\n",
       " \"weren't\",\n",
       " 'won',\n",
       " \"won't\",\n",
       " 'wouldn',\n",
       " \"wouldn't\"]"
      ]
     },
     "execution_count": 35,
     "metadata": {},
     "output_type": "execute_result"
    }
   ],
   "source": [
    "stop_words"
   ]
  },
  {
   "cell_type": "code",
   "execution_count": 32,
   "metadata": {},
   "outputs": [
    {
     "data": {
      "text/plain": [
       "0       trip verified ba shuttle service across uk sti...\n",
       "1       trip verified must admit like many others tend...\n",
       "2       verified ba update business class cabin 8 acro...\n",
       "3       trip verified paid 200 day flight upgrade econ...\n",
       "4       trip verified ba website work weirdly deleted ...\n",
       "                              ...                        \n",
       "1995    impressed world traveller plus experience brit...\n",
       "1996    flew british airways gatwick punta cana begin ...\n",
       "1997    verified review flight gatwick bermuda 777 bri...\n",
       "1998    london calgary hard know quite makes 787 comfo...\n",
       "1999    warsaw heathrow check open 2 hours wanted shop...\n",
       "Name: reviews_nopun, Length: 2000, dtype: object"
      ]
     },
     "execution_count": 32,
     "metadata": {},
     "output_type": "execute_result"
    }
   ],
   "source": [
    "# Removing Stopwords\n",
    "df['reviews_nopun'].apply(lambda x: \" \".join(x for x in x.split() if x not in stop_words))"
   ]
  },
  {
   "cell_type": "code",
   "execution_count": 25,
   "metadata": {},
   "outputs": [],
   "source": [
    "# storing it up in a new column\n",
    "df['reviews_nopun_nostop'] = df['reviews_nopun'].apply(lambda x: \" \".join(x for x in x.split() if x not in stop_words))"
   ]
  },
  {
   "attachments": {},
   "cell_type": "markdown",
   "metadata": {},
   "source": [
    "*Removing excessively short and frequent words that are not important*"
   ]
  },
  {
   "cell_type": "code",
   "execution_count": 44,
   "metadata": {},
   "outputs": [
    {
     "data": {
      "text/plain": [
       "flight        3734\n",
       "ba            2566\n",
       "verified      1852\n",
       "service       1630\n",
       "london        1566\n",
       "food          1249\n",
       "trip          1223\n",
       "seat          1221\n",
       "british       1151\n",
       "crew          1149\n",
       "airways       1149\n",
       "time          1108\n",
       "cabin         1058\n",
       "class         1052\n",
       "seats         1027\n",
       "good          1004\n",
       "one            936\n",
       "heathrow       926\n",
       "business       899\n",
       "staff          859\n",
       "would          858\n",
       "review         772\n",
       "economy        767\n",
       "get            765\n",
       "airline        677\n",
       "first          661\n",
       "flights        624\n",
       "hours          620\n",
       "us             620\n",
       "passengers     588\n",
       "back           586\n",
       "boarding       582\n",
       "plane          576\n",
       "even           571\n",
       "could          543\n",
       "dtype: int64"
      ]
     },
     "execution_count": 44,
     "metadata": {},
     "output_type": "execute_result"
    }
   ],
   "source": [
    "# top 35 occuring words in our review\n",
    "pd.Series(\" \".join(df['reviews_nopun_nostop']).split()).value_counts()[:35]"
   ]
  },
  {
   "cell_type": "code",
   "execution_count": 46,
   "metadata": {},
   "outputs": [],
   "source": [
    "# Returning frequency of values\n",
    "freq= pd.Series(\" \".join(df['reviews_nopun_nostop']).split()).value_counts()[:25]"
   ]
  },
  {
   "cell_type": "code",
   "execution_count": 49,
   "metadata": {},
   "outputs": [],
   "source": [
    "# checking for other stopwords\n",
    "other_stopwords = ['get', 'us', 'see', 'use', 'even', 'could', 'back', 'would' \\\n",
    "  'one', 'to', 'and', 'a', 'was', 'i', 'of', 'this', 'had', 'be'\\\n",
    "  'in', 'on', 'for', 'is', 'one', 'not', 'that', 'were', 'from', 'have'\\\n",
    "  'it', 'we', 'but', 'they', 'has', 'at', 'very', 'no']"
   ]
  },
  {
   "cell_type": "code",
   "execution_count": 50,
   "metadata": {},
   "outputs": [
    {
     "data": {
      "text/plain": [
       "33"
      ]
     },
     "execution_count": 50,
     "metadata": {},
     "output_type": "execute_result"
    }
   ],
   "source": [
    "# checking the lenght of other stopwords\n",
    "len(other_stopwords)"
   ]
  },
  {
   "cell_type": "code",
   "execution_count": 54,
   "metadata": {},
   "outputs": [
    {
     "data": {
      "text/plain": [
       "0       trip verified ba shuttle service across uk sti...\n",
       "1       trip verified must admit like many others tend...\n",
       "2       verified ba update business class cabin 8 acro...\n",
       "3       trip verified paid 200 day flight upgrade econ...\n",
       "4       trip verified ba website work weirdly deleted ...\n",
       "                              ...                        \n",
       "1995    impressed world traveller plus experience brit...\n",
       "1996    flew british airways gatwick punta cana begin ...\n",
       "1997    verified review flight gatwick bermuda 777 bri...\n",
       "1998    london calgary hard know quite makes 787 comfo...\n",
       "1999    warsaw heathrow check open 2 hours wanted shop...\n",
       "Name: reviews_nopun_nostop, Length: 2000, dtype: object"
      ]
     },
     "execution_count": 54,
     "metadata": {},
     "output_type": "execute_result"
    }
   ],
   "source": [
    "# removing from the review text block.\n",
    "df['reviews_nopun_nostop'].apply(lambda x: \"\".join(\" \".join(x for x in x.split() if x not in other_stopwords)))"
   ]
  },
  {
   "cell_type": "code",
   "execution_count": 59,
   "metadata": {},
   "outputs": [],
   "source": [
    "# storing it up in a new column\n",
    "df['cleanreviews'] = df['reviews_nopun_nostop'].apply(lambda x: \"\".join\n",
    "                       (\" \".join(x for x in x.split() if x not in other_stopwords)))"
   ]
  },
  {
   "cell_type": "code",
   "execution_count": 60,
   "metadata": {},
   "outputs": [
    {
     "data": {
      "text/plain": [
       "flight        3734\n",
       "ba            2566\n",
       "verified      1852\n",
       "service       1630\n",
       "london        1566\n",
       "food          1249\n",
       "trip          1223\n",
       "seat          1221\n",
       "british       1151\n",
       "airways       1149\n",
       "crew          1149\n",
       "time          1108\n",
       "cabin         1058\n",
       "class         1052\n",
       "seats         1027\n",
       "good          1004\n",
       "heathrow       926\n",
       "business       899\n",
       "staff          859\n",
       "would          858\n",
       "review         772\n",
       "economy        767\n",
       "airline        677\n",
       "first          661\n",
       "flights        624\n",
       "hours          620\n",
       "passengers     588\n",
       "boarding       582\n",
       "plane          576\n",
       "lounge         539\n",
       "return         520\n",
       "experience     504\n",
       "check          499\n",
       "meal           494\n",
       "club           490\n",
       "dtype: int64"
      ]
     },
     "execution_count": 60,
     "metadata": {},
     "output_type": "execute_result"
    }
   ],
   "source": [
    "# checking the top 35 clean reviews\n",
    "pd.Series(\" \".join(df['cleanreviews']).split()).value_counts()[:35]"
   ]
  },
  {
   "cell_type": "code",
   "execution_count": 63,
   "metadata": {},
   "outputs": [
    {
     "data": {
      "text/html": [
       "<div>\n",
       "<style scoped>\n",
       "    .dataframe tbody tr th:only-of-type {\n",
       "        vertical-align: middle;\n",
       "    }\n",
       "\n",
       "    .dataframe tbody tr th {\n",
       "        vertical-align: top;\n",
       "    }\n",
       "\n",
       "    .dataframe thead th {\n",
       "        text-align: right;\n",
       "    }\n",
       "</style>\n",
       "<table border=\"1\" class=\"dataframe\">\n",
       "  <thead>\n",
       "    <tr style=\"text-align: right;\">\n",
       "      <th></th>\n",
       "      <th>reviews</th>\n",
       "      <th>word_count</th>\n",
       "      <th>char_count</th>\n",
       "      <th>avg_word</th>\n",
       "      <th>stopword_count</th>\n",
       "      <th>reviews_lower</th>\n",
       "      <th>reviews_nopun</th>\n",
       "      <th>reviews_nopun_nostop</th>\n",
       "      <th>reviews_nopun_nostop_nocommon</th>\n",
       "      <th>cleanreviews</th>\n",
       "    </tr>\n",
       "  </thead>\n",
       "  <tbody>\n",
       "    <tr>\n",
       "      <th>0</th>\n",
       "      <td>✅ Trip Verified |  BA shuttle service across t...</td>\n",
       "      <td>101</td>\n",
       "      <td>527</td>\n",
       "      <td>4.270000</td>\n",
       "      <td>36</td>\n",
       "      <td>✅ trip verified | ba shuttle service across th...</td>\n",
       "      <td>trip verified  ba shuttle service across the ...</td>\n",
       "      <td>trip verified ba shuttle service across uk sti...</td>\n",
       "      <td>trip verified ba shuttle service across uk sti...</td>\n",
       "      <td>trip verified ba shuttle service across uk sti...</td>\n",
       "    </tr>\n",
       "    <tr>\n",
       "      <th>1</th>\n",
       "      <td>✅ Trip Verified | I must admit like many other...</td>\n",
       "      <td>155</td>\n",
       "      <td>828</td>\n",
       "      <td>4.348387</td>\n",
       "      <td>52</td>\n",
       "      <td>✅ trip verified | i must admit like many other...</td>\n",
       "      <td>trip verified  i must admit like many others ...</td>\n",
       "      <td>trip verified must admit like many others tend...</td>\n",
       "      <td>trip verified must admit like many others tend...</td>\n",
       "      <td>trip verified must admit like many others tend...</td>\n",
       "    </tr>\n",
       "    <tr>\n",
       "      <th>2</th>\n",
       "      <td>Not Verified |  When will BA update their Busi...</td>\n",
       "      <td>102</td>\n",
       "      <td>596</td>\n",
       "      <td>4.950000</td>\n",
       "      <td>32</td>\n",
       "      <td>not verified | when will ba update their busin...</td>\n",
       "      <td>not verified  when will ba update their busine...</td>\n",
       "      <td>verified ba update business class cabin 8 acro...</td>\n",
       "      <td>verified ba update business class cabin 8 acro...</td>\n",
       "      <td>verified ba update business class cabin 8 acro...</td>\n",
       "    </tr>\n",
       "    <tr>\n",
       "      <th>3</th>\n",
       "      <td>✅ Trip Verified |  Paid £200 day before flight...</td>\n",
       "      <td>189</td>\n",
       "      <td>1001</td>\n",
       "      <td>4.324468</td>\n",
       "      <td>80</td>\n",
       "      <td>✅ trip verified | paid £200 day before flight ...</td>\n",
       "      <td>trip verified  paid 200 day before flight for...</td>\n",
       "      <td>trip verified paid 200 day flight upgrade econ...</td>\n",
       "      <td>trip verified paid 200 day flight upgrade econ...</td>\n",
       "      <td>trip verified paid 200 day flight upgrade econ...</td>\n",
       "    </tr>\n",
       "    <tr>\n",
       "      <th>4</th>\n",
       "      <td>✅ Trip Verified |  BA website did not work (we...</td>\n",
       "      <td>142</td>\n",
       "      <td>799</td>\n",
       "      <td>4.666667</td>\n",
       "      <td>45</td>\n",
       "      <td>✅ trip verified | ba website did not work (wei...</td>\n",
       "      <td>trip verified  ba website did not work weirdl...</td>\n",
       "      <td>trip verified ba website work weirdly deleted ...</td>\n",
       "      <td>trip verified ba website work weirdly deleted ...</td>\n",
       "      <td>trip verified ba website work weirdly deleted ...</td>\n",
       "    </tr>\n",
       "  </tbody>\n",
       "</table>\n",
       "</div>"
      ],
      "text/plain": [
       "                                             reviews  word_count  char_count  \\\n",
       "0  ✅ Trip Verified |  BA shuttle service across t...         101         527   \n",
       "1  ✅ Trip Verified | I must admit like many other...         155         828   \n",
       "2  Not Verified |  When will BA update their Busi...         102         596   \n",
       "3  ✅ Trip Verified |  Paid £200 day before flight...         189        1001   \n",
       "4  ✅ Trip Verified |  BA website did not work (we...         142         799   \n",
       "\n",
       "   avg_word  stopword_count  \\\n",
       "0  4.270000              36   \n",
       "1  4.348387              52   \n",
       "2  4.950000              32   \n",
       "3  4.324468              80   \n",
       "4  4.666667              45   \n",
       "\n",
       "                                       reviews_lower  \\\n",
       "0  ✅ trip verified | ba shuttle service across th...   \n",
       "1  ✅ trip verified | i must admit like many other...   \n",
       "2  not verified | when will ba update their busin...   \n",
       "3  ✅ trip verified | paid £200 day before flight ...   \n",
       "4  ✅ trip verified | ba website did not work (wei...   \n",
       "\n",
       "                                       reviews_nopun  \\\n",
       "0   trip verified  ba shuttle service across the ...   \n",
       "1   trip verified  i must admit like many others ...   \n",
       "2  not verified  when will ba update their busine...   \n",
       "3   trip verified  paid 200 day before flight for...   \n",
       "4   trip verified  ba website did not work weirdl...   \n",
       "\n",
       "                                reviews_nopun_nostop  \\\n",
       "0  trip verified ba shuttle service across uk sti...   \n",
       "1  trip verified must admit like many others tend...   \n",
       "2  verified ba update business class cabin 8 acro...   \n",
       "3  trip verified paid 200 day flight upgrade econ...   \n",
       "4  trip verified ba website work weirdly deleted ...   \n",
       "\n",
       "                       reviews_nopun_nostop_nocommon  \\\n",
       "0  trip verified ba shuttle service across uk sti...   \n",
       "1  trip verified must admit like many others tend...   \n",
       "2  verified ba update business class cabin 8 acro...   \n",
       "3  trip verified paid 200 day flight upgrade econ...   \n",
       "4  trip verified ba website work weirdly deleted ...   \n",
       "\n",
       "                                        cleanreviews  \n",
       "0  trip verified ba shuttle service across uk sti...  \n",
       "1  trip verified must admit like many others tend...  \n",
       "2  verified ba update business class cabin 8 acro...  \n",
       "3  trip verified paid 200 day flight upgrade econ...  \n",
       "4  trip verified ba website work weirdly deleted ...  "
      ]
     },
     "execution_count": 63,
     "metadata": {},
     "output_type": "execute_result"
    }
   ],
   "source": [
    "df.head()"
   ]
  },
  {
   "attachments": {},
   "cell_type": "markdown",
   "metadata": {},
   "source": [
    "### 3. Present insights"
   ]
  }
 ],
 "metadata": {
  "kernelspec": {
   "display_name": "Python 3.9.7 ('ba_env': venv)",
   "language": "python",
   "name": "python3"
  },
  "language_info": {
   "codemirror_mode": {
    "name": "ipython",
    "version": 3
   },
   "file_extension": ".py",
   "mimetype": "text/x-python",
   "name": "python",
   "nbconvert_exporter": "python",
   "pygments_lexer": "ipython3",
   "version": "3.9.7"
  },
  "orig_nbformat": 4,
  "vscode": {
   "interpreter": {
    "hash": "abe271f2a0554de5206232fa9bb78ffa119e85cb97bc9d05de84ccd390836b2d"
   }
  }
 },
 "nbformat": 4,
 "nbformat_minor": 2
}
